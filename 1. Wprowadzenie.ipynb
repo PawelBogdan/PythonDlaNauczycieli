{
 "cells": [
  {
   "cell_type": "code",
   "execution_count": 1,
   "metadata": {
    "slideshow": {
     "slide_type": "skip"
    }
   },
   "outputs": [],
   "source": [
    "#-*- coding: utf-8 -*-"
   ]
  },
  {
   "cell_type": "markdown",
   "metadata": {
    "slideshow": {
     "slide_type": "slide"
    }
   },
   "source": [
    "# Python dla Nauczycieli\n",
    "\n",
    "## Autor: Paweł Bogdan\n",
    "\n",
    "## Data: 23 - 24 lutego 2018\n",
    "\n",
    "## Miejsce: Suwałki"
   ]
  },
  {
   "cell_type": "markdown",
   "metadata": {
    "slideshow": {
     "slide_type": "slide"
    }
   },
   "source": [
    "# Używane źródła:\n",
    "\n",
    "1. [Materiały do kursu o Pythonie na UJ](http://misztal.edu.pl/for-students/20172018/efektywne-programowanie-w-j%C4%99zyku-python/)\n",
    "2. [Kurs o pythonie na Uniwersytecie Stanforda](http://stanfordpython.com/)\n",
    "3. [Kolejny kurs na Uniwersetecie Stanforda](https://stanford.edu/~schmit/cme193/project.html)\n",
    "4. [Polski tutorial](http://workshop-python.readthedocs.io/)"
   ]
  },
  {
   "cell_type": "markdown",
   "metadata": {
    "slideshow": {
     "slide_type": "slide"
    }
   },
   "source": [
    "# Podział języków programowania\n",
    "\n",
    "Zgodnie z [polską Wikipedią](https://pl.wikipedia.org/wiki/J%C4%99zyk_programowania) możemy podzielić języki programowania ze względu na różne kryteria:\n",
    "\n",
    "1. Paradygmat\n",
    "2. Generacja języka programowania\n",
    "3. Sposób kontroli typów\n",
    "4. Sposób wykonania\n",
    "5. Poziom\n",
    "6. Przeznaczenie"
   ]
  },
  {
   "cell_type": "markdown",
   "metadata": {
    "slideshow": {
     "slide_type": "subslide"
    }
   },
   "source": [
    "## Podział języków ze względu na paradygmat\n",
    "\n",
    "W oparciu o [materiały](http://pracownicy.uwm.edu.pl/wojsob/pliki/publikacje/jp-01.pdf)\n",
    "\n",
    "1. Języki imperatywne (podajemy ciąg instrukcji)\n",
    "   - proceduralne\n",
    "   - strukturalne\n",
    "   - obiektowe\n",
    "2. Deklaratywne (podajemy cel i zależności)\n",
    "   - funkcyjne\n",
    "   - logiczne\n",
    "   - bazodanowe"
   ]
  },
  {
   "cell_type": "markdown",
   "metadata": {
    "slideshow": {
     "slide_type": "subslide"
    }
   },
   "source": [
    "## Podział języków ze względu na generację\n",
    "\n",
    "W oparciu o [materiały](http://pracownicy.uwm.edu.pl/wojsob/pliki/publikacje/jp-01.pdf)\n",
    "\n",
    "1. Języki pierwszej generacji - Każda instrukcja zapisana za pomocą odpowiedniego kodu binarnego. Każdy komputer miał swój własny _język programowania_.\n",
    "2. Języki drugiej generacji - Każda instrukcja zapisana jako łatwy do zapamiętania symbol - asemblery\n",
    "3. Języki trzeciej generacji - Pierwsze języki wysokiego poziomu, instrukcje nie zależą od procesora, jedna instrukcja odpowiada potencjalnie wielu instrukcjom procesora\n",
    "4. Języki czwartej generacji - Języki obiektowe\n",
    "5. Języki piątej generacji - Języki programowania służące do tworzenia sztucznej inteligencji."
   ]
  },
  {
   "cell_type": "markdown",
   "metadata": {
    "slideshow": {
     "slide_type": "subslide"
    }
   },
   "source": [
    "## Podział języków ze względu na kontrolę typów\n",
    "\n",
    "Na podstawie [tego artykułu na Wikipedii](https://pl.wikipedia.org/wiki/Typ_danych)\n",
    "\n",
    "1. Statyczne typowanie\n",
    "2. Dynamiczne typowanie"
   ]
  },
  {
   "cell_type": "markdown",
   "metadata": {
    "slideshow": {
     "slide_type": "subslide"
    }
   },
   "source": [
    "## Podział języków ze względu na sposób wykonania\n",
    "\n",
    "1. Kompilacja\n",
    "2. Interpretacja"
   ]
  },
  {
   "cell_type": "markdown",
   "metadata": {
    "slideshow": {
     "slide_type": "subslide"
    }
   },
   "source": [
    "## Podział języków ze względu na poziom\n",
    "\n",
    "1. Języki wysokiego poziomu\n",
    "2. Języki niskiego poziomu"
   ]
  },
  {
   "cell_type": "markdown",
   "metadata": {
    "slideshow": {
     "slide_type": "subslide"
    }
   },
   "source": [
    "## Podział języków ze względu na przeznaczenie\n",
    "\n",
    "Na podstawie [tej strony](http://zeszyt.jedlikowski.com/2013-04-16/informatyka/jezyki-programowania-pojecia-klasyfikacja-przyklady/)\n",
    "\n",
    "1. Języki ogólnego przeznaczenia\n",
    "2. Języki do obsługi bazy danych\n",
    "3. Języki do tworzenia systemów czasu rzeczywistego\n",
    "4. Jęzki do tworzenia aplikacji webowych\n",
    "5. Języki do tworzenia aplikacji desktopowych\n",
    "6. ..."
   ]
  },
  {
   "cell_type": "markdown",
   "metadata": {
    "slideshow": {
     "slide_type": "slide"
    }
   },
   "source": [
    "# Historia \n",
    "\n",
    "- Twórca Guido van Rossum (ur. 1960) tak lubił _Latający Cyrk Monty Pythona_, że nazwa stworzonego przez niego języka nawiązuje do tego brytyjskiego programu telewizyjnego\n",
    "- Python zaczął powstawać w roku 1989 w AMsterdamie\n",
    "- Od wersji 2.1 (czyli od roku 2001) język Python jest rozwijany jako projekt open source. Opiekę nad nim sprawuje Python Software Foundation (stworzona na wzór Apache Software Foundation)\n",
    "- Od roku 2008 współistnieją dwie gałęzie pythona 2.x i 3.x\n",
    "- Obecnie zaleca się używanie wersji 3.x, ponieważ:\n",
    "   - Wersja 2.x [niedługo _umrze_](https://pythonclock.org/)\n",
    "   - Wersja 3.x jest dużo bardziej stabilna"
   ]
  },
  {
   "cell_type": "markdown",
   "metadata": {
    "slideshow": {
     "slide_type": "slide"
    }
   },
   "source": [
    "# Dlaczego warto używać Pythona?\n",
    "\n",
    "1. Jest bardzo [popularnym językiem](https://cloud.githubusercontent.com/assets/2623954/9098640/f15e22b4-3b7f-11e5-9496-12b6d811f0ea.jpg) programownia\n",
    "2. Jest dobrym językiem do nauki programowania\n",
    "3. Ma szerokie zastosowanie w badaniach naukowych\n",
    "4. Programista Pythona [ma wysokie zarobki](https://wynagrodzenia.pl/moja-placa/ile-zarabia-programista-python)"
   ]
  },
  {
   "cell_type": "markdown",
   "metadata": {
    "slideshow": {
     "slide_type": "slide"
    }
   },
   "source": [
    "# PEP - Python Enhancement Proposal\n",
    "- [PEP 8](https://www.python.org/dev/peps/pep-0008/)\n",
    "\n",
    "- [PEP 20](http://www.python.org/dev/peps/pep-0020/)"
   ]
  },
  {
   "cell_type": "code",
   "execution_count": null,
   "metadata": {
    "slideshow": {
     "slide_type": "-"
    }
   },
   "outputs": [],
   "source": [
    "import this"
   ]
  },
  {
   "cell_type": "markdown",
   "metadata": {
    "slideshow": {
     "slide_type": "slide"
    }
   },
   "source": [
    "# Interpreter Pythona\n",
    "\n",
    "`cmd.exe`\n",
    "\n",
    "<img src=\"cmd1.png\" style=\"align: center\"/>"
   ]
  },
  {
   "cell_type": "markdown",
   "metadata": {
    "slideshow": {
     "slide_type": "subslide"
    }
   },
   "source": [
    "`C:\\Users\\Bogdan\\python`\n",
    "![cmd2](cmd2.png)"
   ]
  },
  {
   "cell_type": "markdown",
   "metadata": {
    "slideshow": {
     "slide_type": "slide"
    }
   },
   "source": [
    "# Pierwsza instrukcja\n"
   ]
  },
  {
   "cell_type": "code",
   "execution_count": null,
   "metadata": {},
   "outputs": [],
   "source": [
    "print(\"Hello world!\")"
   ]
  },
  {
   "cell_type": "markdown",
   "metadata": {},
   "source": [
    "![cmd3](cmd3.png)"
   ]
  },
  {
   "cell_type": "markdown",
   "metadata": {
    "slideshow": {
     "slide_type": "slide"
    }
   },
   "source": [
    "# Operacje arytmetyczne\n",
    "\n",
    "1. Dodawanie: `+`\n",
    "2. Odejmowanie: `-`\n",
    "3. Mnożenie: `*`\n",
    "4. Dzielenie: `/` oraz `//`\n",
    "5. Reszta z dzielenia: `%`\n",
    "6. Potęgowanie: `**`"
   ]
  },
  {
   "cell_type": "code",
   "execution_count": null,
   "metadata": {
    "slideshow": {
     "slide_type": "-"
    }
   },
   "outputs": [],
   "source": [
    "2+2"
   ]
  },
  {
   "cell_type": "markdown",
   "metadata": {
    "slideshow": {
     "slide_type": "slide"
    }
   },
   "source": [
    "# Typy danych\n",
    "\n",
    "## Liczby całkowite\n",
    "\n"
   ]
  },
  {
   "cell_type": "code",
   "execution_count": null,
   "metadata": {},
   "outputs": [],
   "source": [
    "2\n",
    "3_000\n",
    "0xA\n",
    "0o31\n",
    "0b100"
   ]
  },
  {
   "cell_type": "markdown",
   "metadata": {
    "slideshow": {
     "slide_type": "slide"
    }
   },
   "source": [
    "# Typy danych\n",
    "\n",
    "## Liczby zmiennoprzecinkowe"
   ]
  },
  {
   "cell_type": "code",
   "execution_count": null,
   "metadata": {},
   "outputs": [],
   "source": [
    "3.0\n",
    "3e10"
   ]
  },
  {
   "cell_type": "markdown",
   "metadata": {
    "slideshow": {
     "slide_type": "slide"
    }
   },
   "source": [
    "# Typy danych\n",
    "\n",
    "## Typ logiczny"
   ]
  },
  {
   "cell_type": "code",
   "execution_count": null,
   "metadata": {},
   "outputs": [],
   "source": [
    "True\n",
    "False\n",
    "not True\n",
    "not False\n",
    "True or False\n",
    "True and False"
   ]
  },
  {
   "cell_type": "markdown",
   "metadata": {
    "slideshow": {
     "slide_type": "slide"
    }
   },
   "source": [
    "# Typy danych\n",
    "\n",
    "## Napisy"
   ]
  },
  {
   "cell_type": "code",
   "execution_count": null,
   "metadata": {},
   "outputs": [],
   "source": [
    "\"pawel\"\n",
    "'bogdan'"
   ]
  },
  {
   "cell_type": "markdown",
   "metadata": {
    "slideshow": {
     "slide_type": "slide"
    }
   },
   "source": [
    "# Moduły\n",
    "\n",
    "![img](first_module_1.png)"
   ]
  },
  {
   "cell_type": "markdown",
   "metadata": {
    "slideshow": {
     "slide_type": "slide"
    }
   },
   "source": [
    "## Uruchomienie"
   ]
  },
  {
   "cell_type": "markdown",
   "metadata": {
    "slideshow": {
     "slide_type": "subslide"
    }
   },
   "source": [
    "### Sposób 1\n",
    "\n",
    "`\n",
    "cd Documents\\Dydaktyka\\PythonDlaNauczycieli\n",
    "python first_module.py\n",
    "`\n",
    "\n",
    "![img](cmd4.png)\n",
    "\n"
   ]
  },
  {
   "cell_type": "markdown",
   "metadata": {
    "slideshow": {
     "slide_type": "subslide"
    }
   },
   "source": [
    "### Sposób 2\n",
    "\n",
    "`\n",
    "cd Documents\\Dydaktyka\\PythonDlaNauczycieli\n",
    "python\n",
    "import first_module\n",
    "`\n",
    "\n",
    "![img](cmd5.png)"
   ]
  }
 ],
 "metadata": {
  "celltoolbar": "Slideshow",
  "kernelspec": {
   "display_name": "Python 3",
   "language": "python",
   "name": "python3"
  },
  "language_info": {
   "codemirror_mode": {
    "name": "ipython",
    "version": 3
   },
   "file_extension": ".py",
   "mimetype": "text/x-python",
   "name": "python",
   "nbconvert_exporter": "python",
   "pygments_lexer": "ipython3",
   "version": "3.6.4"
  },
  "livereveal": {
   "theme": "sky"
  }
 },
 "nbformat": 4,
 "nbformat_minor": 2
}
