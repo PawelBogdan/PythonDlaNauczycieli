{
 "cells": [
  {
   "cell_type": "code",
   "execution_count": 1,
   "metadata": {
    "slideshow": {
     "slide_type": "skip"
    }
   },
   "outputs": [],
   "source": [
    "#-*- coding: utf-8 -*-"
   ]
  },
  {
   "cell_type": "markdown",
   "metadata": {
    "slideshow": {
     "slide_type": "slide"
    }
   },
   "source": [
    "# Obiekt\n",
    "\n",
    "## Przykłady obiektów\n",
    "\n",
    "1. Mój długopis, który pisze na fioletowo\n",
    "2. Mój samochód w kolorze szarym z silnikiem diesla\n",
    "3. Projektor, z którego korzystamy\n",
    "4. Samochód mojego taty, który jest niebieski i też ma silnik diesla\n",
    "5. Projektor w innej pracowni\n",
    "6 ..."
   ]
  },
  {
   "cell_type": "markdown",
   "metadata": {
    "slideshow": {
     "slide_type": "slide"
    }
   },
   "source": [
    "# Klasa\n",
    "\n",
    "## Kontener na podobne obiekty"
   ]
  },
  {
   "cell_type": "markdown",
   "metadata": {
    "slideshow": {
     "slide_type": "slide"
    }
   },
   "source": [
    "# Przykład\n",
    "\n",
    "## Każdy samochód ma:\n",
    "\n",
    "1. Rok produkcji\n",
    "2. Przebieg\n",
    "3. Średnie zużycie paliwa\n",
    "4. Kolor\n",
    "5. Numer nadwozia\n",
    "\n",
    "## Każdy samochód można:\n",
    "\n",
    "1. zatankować\n",
    "2. naprawić\n",
    "3. przesunąć\n",
    "4. podróżować"
   ]
  },
  {
   "cell_type": "markdown",
   "metadata": {
    "slideshow": {
     "slide_type": "subslide"
    }
   },
   "source": [
    "# Abstrakcja\n",
    "\n",
    "![abstrakcja kota](https://effectivesoftwaredesign.files.wordpress.com/2016/09/cat-abstraction.jpg?w=640)\n",
    "[Źródło](https://effectivesoftwaredesign.com/2016/09/28/the-cat-as-a-metaphor-in-object-oriented-software-development/)"
   ]
  },
  {
   "cell_type": "markdown",
   "metadata": {
    "slideshow": {
     "slide_type": "slide"
    }
   },
   "source": [
    "# Klasy w pythonie\n",
    "\n",
    "```python\n",
    "class Nazwa:\n",
    "    def metoda_1(self, argument_1, argument_2, ..., arument_n):\n",
    "        # instrukcje\n",
    "        # jeżeli metoda ma coś zwrócić to:\n",
    "        return value_1\n",
    "    \n",
    "    def metoda_2(self, argument_1, argument_2, ..., arument_n):\n",
    "        # instrukcje\n",
    "        # jeżeli metoda ma coś zwrócić to:\n",
    "        return value_2 \n",
    "```"
   ]
  },
  {
   "cell_type": "markdown",
   "metadata": {
    "slideshow": {
     "slide_type": "slide"
    }
   },
   "source": [
    "# Obiekty w pythonie\n",
    "\n",
    "Mamy klasę:"
   ]
  },
  {
   "cell_type": "code",
   "execution_count": 2,
   "metadata": {},
   "outputs": [],
   "source": [
    "class A:\n",
    "    def foo(self):\n",
    "        print(\"FOO\")"
   ]
  },
  {
   "cell_type": "markdown",
   "metadata": {},
   "source": [
    "Wtedy możemy jej użyć:"
   ]
  },
  {
   "cell_type": "code",
   "execution_count": 3,
   "metadata": {},
   "outputs": [
    {
     "name": "stdout",
     "output_type": "stream",
     "text": [
      "FOO\n"
     ]
    }
   ],
   "source": [
    "a = A()\n",
    "a.foo()"
   ]
  },
  {
   "cell_type": "markdown",
   "metadata": {
    "slideshow": {
     "slide_type": "slide"
    }
   },
   "source": [
    "# Chcemy stworzyć obiekt z polami\n",
    "\n",
    "```python\n",
    "class Samochod:\n",
    "    def __init__(self, argument_1, ..., argument_n):\n",
    "        self.color = ...\n",
    "        self.przebieg = ...\n",
    "    # ...\n",
    "```"
   ]
  },
  {
   "cell_type": "markdown",
   "metadata": {
    "slideshow": {
     "slide_type": "slide"
    }
   },
   "source": [
    "# Zadanie\n",
    "\n",
    "Stwórz klasę samochodu. Zademonstruj jej działania. Każdy obiekt tej klasy musi móc jechać przez pewien czas z pewną prędkością. Po takiej jeździe powinno mu ubyć benzyny z baku i powinien zwiększyć się jego przebieg."
   ]
  },
  {
   "cell_type": "markdown",
   "metadata": {
    "slideshow": {
     "slide_type": "slide"
    }
   },
   "source": [
    "# Zadanie\n",
    "\n",
    "Zaproponuj jak ubrać w klasę wszystko, o czym mówiliśmy w czasie analizy statystycznej wczytanego tekstu."
   ]
  }
 ],
 "metadata": {
  "celltoolbar": "Slideshow",
  "kernelspec": {
   "display_name": "Python 3",
   "language": "python",
   "name": "python3"
  },
  "language_info": {
   "codemirror_mode": {
    "name": "ipython",
    "version": 3
   },
   "file_extension": ".py",
   "mimetype": "text/x-python",
   "name": "python",
   "nbconvert_exporter": "python",
   "pygments_lexer": "ipython3",
   "version": "3.6.4"
  },
  "livereveal": {
   "scroll": "false",
   "theme": "sky"
  }
 },
 "nbformat": 4,
 "nbformat_minor": 2
}
