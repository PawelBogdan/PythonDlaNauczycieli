{
 "cells": [
  {
   "cell_type": "code",
   "execution_count": 1,
   "metadata": {
    "slideshow": {
     "slide_type": "skip"
    }
   },
   "outputs": [],
   "source": [
    "#-*- coding: utf-8 -*-"
   ]
  },
  {
   "cell_type": "markdown",
   "metadata": {
    "slideshow": {
     "slide_type": "slide"
    }
   },
   "source": [
    "# Analiza tekstu\n",
    "\n",
    "## Zadanie\n",
    "\n",
    "Napiszemy program, który czyta utwór literacki z pliku tekstowego i następnie dokonamy analizy tego utworu."
   ]
  },
  {
   "cell_type": "markdown",
   "metadata": {
    "slideshow": {
     "slide_type": "slide"
    }
   },
   "source": [
    "# Krok 1: Wczytanie nazwy pliku\n",
    "\n",
    "Do czytania danych ze standardowego wejścia służy funkcja `input()`:\n",
    "```python\n",
    "input()\n",
    "input('Podaj nazwę pliku')\n",
    "```"
   ]
  },
  {
   "cell_type": "code",
   "execution_count": null,
   "metadata": {
    "slideshow": {
     "slide_type": "fragment"
    }
   },
   "outputs": [],
   "source": [
    "input()"
   ]
  },
  {
   "cell_type": "markdown",
   "metadata": {
    "slideshow": {
     "slide_type": "slide"
    }
   },
   "source": [
    "# Krok 2: Sprawdzenie, czy plik istnieje\n",
    "\n",
    "Najpierw musimy zaimportować moduł\n",
    "\n",
    "```python\n",
    "import os\n",
    "```\n",
    "Dzięki temu modułowi możemy sprawdzić, czy plik istnieje:\n",
    "```python\n",
    "os.path.exists(<ścieżka_do_pliku>)\n",
    "```\n"
   ]
  },
  {
   "cell_type": "markdown",
   "metadata": {
    "slideshow": {
     "slide_type": "subslide"
    }
   },
   "source": [
    "Metoda zwraca wartość logiczną. Możemy więc skorzystać z instrukcji warunkowej:\n",
    "   \n",
    "```python\n",
    "if warunek_logiczny_1:\n",
    "    # instrukcje wykonywane, gdy warunek_logiczny_1 jest prawdziwy\n",
    "elif warunek_logiczny_2:\n",
    "    # instrukcje wykonywane, gdy warunek_logiczny_1 nie jest prawdziwy,\n",
    "    # ale warunek_loginczy_2 jest prawdziwy\n",
    "else:\n",
    "    # instrukcje wykonywane, gdy ani warunek_logiczny_1 ani\n",
    "    # warunek_logiczny_2 nie zachodzą\n",
    "```"
   ]
  },
  {
   "cell_type": "markdown",
   "metadata": {
    "slideshow": {
     "slide_type": "subslide"
    }
   },
   "source": [
    "## Podsumowanie\n",
    "\n",
    "Możemy napisać kod:"
   ]
  },
  {
   "cell_type": "code",
   "execution_count": null,
   "metadata": {},
   "outputs": [],
   "source": [
    "import os\n",
    "\n",
    "file_path = input(\"Podaj ścieżkę do pliku: \")\n",
    "if os.path.exists(file_path):\n",
    "    print(\"Plik \" + file_path + \" istnieje\")\n",
    "else:\n",
    "    print(\"Plik \" + file_path + \" NIE istnieje\")"
   ]
  },
  {
   "cell_type": "markdown",
   "metadata": {
    "slideshow": {
     "slide_type": "slide"
    }
   },
   "source": [
    "# Krok 3: Wymuszenie podania właściwego pliku\n",
    "\n",
    "Program, w którym nie będziemy mieli ścieżki do istniejącego pliku, jest bezużyteczny. Musimy wymusić na użytkowniku podanie właściwej ścieżki. Możemy to zrobić przy użyciu pętli:\n",
    "\n",
    "```python\n",
    "while warunek:\n",
    "    # instrukcje wykonywane dopóki warunek jest prawdziwy\n",
    "```"
   ]
  },
  {
   "cell_type": "markdown",
   "metadata": {
    "slideshow": {
     "slide_type": "subslide"
    }
   },
   "source": [
    "## Podsumowanie\n",
    "\n",
    "Poprzedni kod możemy przepisać:"
   ]
  },
  {
   "cell_type": "code",
   "execution_count": null,
   "metadata": {},
   "outputs": [],
   "source": [
    "import os\n",
    "\n",
    "file_path = input(\"Podaj ścieżkę do pliku: \")\n",
    "\n",
    "while not os.path.exists(file_path):\n",
    "    file_path = input(\"Plik nie istnieje, spróbuj jeszcze raz: \")"
   ]
  },
  {
   "cell_type": "markdown",
   "metadata": {
    "slideshow": {
     "slide_type": "slide"
    }
   },
   "source": [
    "# Krok 4: Czytanie pliku tekstowego\n",
    "\n",
    "Do otwarcia pliku do czytania używamy instrukcji:\n",
    "```python\n",
    "f = open(<ścieżka do pliku>)\n",
    "```\n",
    "A gdy chcemy pisać do pliku:\n",
    "```python\n",
    "f = open(<ścieżka do pliku>, 'w')\n",
    "```"
   ]
  },
  {
   "cell_type": "markdown",
   "metadata": {
    "slideshow": {
     "slide_type": "subslide"
    }
   },
   "source": [
    "## Sposób 1:\n",
    "\n",
    "Możemy przeczytać cały plik do jednej zmiennej:"
   ]
  },
  {
   "cell_type": "code",
   "execution_count": 8,
   "metadata": {},
   "outputs": [],
   "source": [
    "f = open('reduta-ordona.txt')\n",
    "content = f.read()\n",
    "print(r)"
   ]
  },
  {
   "cell_type": "markdown",
   "metadata": {
    "slideshow": {
     "slide_type": "subslide"
    }
   },
   "source": [
    "## Sposób 2:\n",
    "\n",
    "Możemy czytać plik linijka po linijce:"
   ]
  },
  {
   "cell_type": "code",
   "execution_count": 18,
   "metadata": {},
   "outputs": [],
   "source": [
    "f = open('reduta-ordona.txt')\n",
    "line = f.readline()\n",
    "while line != '':\n",
    "    print(line)\n",
    "    line = f.readline()"
   ]
  },
  {
   "cell_type": "markdown",
   "metadata": {
    "slideshow": {
     "slide_type": "subslide"
    }
   },
   "source": [
    "## Sposób 3:\n",
    "\n",
    "Możemy przeczytać plik do listy linijek:"
   ]
  },
  {
   "cell_type": "code",
   "execution_count": 19,
   "metadata": {},
   "outputs": [],
   "source": [
    "f = open('reduta-ordona.txt')\n",
    "lines = f.readlines()"
   ]
  },
  {
   "cell_type": "markdown",
   "metadata": {
    "slideshow": {
     "slide_type": "subslide"
    }
   },
   "source": [
    "## Listy w pythonie\n",
    "\n",
    "### Tworzenie listy:"
   ]
  },
  {
   "cell_type": "code",
   "execution_count": 22,
   "metadata": {},
   "outputs": [
    {
     "name": "stdout",
     "output_type": "stream",
     "text": [
      "[1, 2, 3.0, 'pawel', True]\n"
     ]
    }
   ],
   "source": [
    "l = [1, 2, 3.0, 'pawel', True]\n",
    "print(l)"
   ]
  },
  {
   "cell_type": "markdown",
   "metadata": {
    "slideshow": {
     "slide_type": "fragment"
    }
   },
   "source": [
    "### Dostęp do dowolnego elementu w liście używając indeksu:"
   ]
  },
  {
   "cell_type": "code",
   "execution_count": 24,
   "metadata": {},
   "outputs": [
    {
     "name": "stdout",
     "output_type": "stream",
     "text": [
      "1\n",
      "pawel\n",
      "True\n"
     ]
    }
   ],
   "source": [
    "print(l[0])\n",
    "print(l[3])\n",
    "print(l[-1])"
   ]
  },
  {
   "cell_type": "markdown",
   "metadata": {
    "slideshow": {
     "slide_type": "subslide"
    }
   },
   "source": [
    "### Wybór podlisty:"
   ]
  },
  {
   "cell_type": "code",
   "execution_count": 25,
   "metadata": {},
   "outputs": [
    {
     "name": "stdout",
     "output_type": "stream",
     "text": [
      "[1, 2, 3.0]\n",
      "[3.0, 'pawel', True]\n",
      "[2, 3.0, 'pawel']\n"
     ]
    }
   ],
   "source": [
    "print(l[:3])\n",
    "print(l[2:])\n",
    "print(l[1:-1])"
   ]
  },
  {
   "cell_type": "markdown",
   "metadata": {
    "slideshow": {
     "slide_type": "fragment"
    }
   },
   "source": [
    "### Znalezienie długości listy"
   ]
  },
  {
   "cell_type": "code",
   "execution_count": 30,
   "metadata": {},
   "outputs": [
    {
     "data": {
      "text/plain": [
       "5"
      ]
     },
     "execution_count": 30,
     "metadata": {},
     "output_type": "execute_result"
    }
   ],
   "source": [
    "len(l)"
   ]
  },
  {
   "cell_type": "markdown",
   "metadata": {
    "slideshow": {
     "slide_type": "subslide"
    }
   },
   "source": [
    "### Powiększanie listy"
   ]
  },
  {
   "cell_type": "code",
   "execution_count": 40,
   "metadata": {},
   "outputs": [
    {
     "name": "stdout",
     "output_type": "stream",
     "text": [
      "[1, 2, 3.0, 'pawel', True, 4, 4]\n",
      "[1, 2, 3.0, 'pawel', True, 4, 4, 4]\n",
      "[1, 2, 3.0, 'pawel', True, 4, 4, 4, 3, 2, 1]\n"
     ]
    }
   ],
   "source": [
    "print(l)\n",
    "l.append(4)\n",
    "print(l)\n",
    "print(l + [3,2,1])"
   ]
  },
  {
   "cell_type": "markdown",
   "metadata": {
    "slideshow": {
     "slide_type": "fragment"
    }
   },
   "source": [
    "### Sprawdzenie, czy element jest na liście"
   ]
  },
  {
   "cell_type": "code",
   "execution_count": 41,
   "metadata": {},
   "outputs": [
    {
     "name": "stdout",
     "output_type": "stream",
     "text": [
      "True\n",
      "False\n"
     ]
    }
   ],
   "source": [
    "print(1 in l)\n",
    "print('bogdan' in l)"
   ]
  },
  {
   "cell_type": "markdown",
   "metadata": {
    "slideshow": {
     "slide_type": "subslide"
    }
   },
   "source": [
    "### Przeglądanie całej listy"
   ]
  },
  {
   "cell_type": "code",
   "execution_count": 26,
   "metadata": {},
   "outputs": [
    {
     "name": "stdout",
     "output_type": "stream",
     "text": [
      "1\n",
      "2\n",
      "3.0\n",
      "pawel\n",
      "True\n"
     ]
    }
   ],
   "source": [
    "for element in l:\n",
    "    print(element)"
   ]
  },
  {
   "cell_type": "markdown",
   "metadata": {
    "slideshow": {
     "slide_type": "subslide"
    }
   },
   "source": [
    "## Uwaga\n",
    "\n",
    "Wszystko powyższe stosuje się do napisów. Napis należy rozumieć, jako listę liter"
   ]
  },
  {
   "cell_type": "code",
   "execution_count": 28,
   "metadata": {},
   "outputs": [
    {
     "name": "stdout",
     "output_type": "stream",
     "text": [
      "Paweł Bogdan\n",
      "P\n",
      "n\n",
      "Paweł\n"
     ]
    }
   ],
   "source": [
    "napis = \"Paweł Bogdan\"\n",
    "print(napis)\n",
    "print(napis[0])\n",
    "print(napis[-1])\n",
    "print(napis[:5])"
   ]
  },
  {
   "cell_type": "markdown",
   "metadata": {
    "slideshow": {
     "slide_type": "subslide"
    }
   },
   "source": [
    "## Pętla `for each`\n",
    "\n",
    "```python\n",
    "for element in lista:\n",
    "    # w każdym przebiegu pętli\n",
    "    # w zmiennej element będzie kolejny element znajdujący się na liście\n",
    "```"
   ]
  },
  {
   "cell_type": "markdown",
   "metadata": {
    "slideshow": {
     "slide_type": "slide"
    }
   },
   "source": [
    "# Krok 5: policzenie częstotliwości występowania poszczególnych liter\n",
    "\n",
    "Możemy skorzystać z funkcji `ord`:"
   ]
  },
  {
   "cell_type": "code",
   "execution_count": 33,
   "metadata": {},
   "outputs": [
    {
     "name": "stdout",
     "output_type": "stream",
     "text": [
      "97\n",
      "122\n",
      "65\n",
      "90\n"
     ]
    }
   ],
   "source": [
    "print(ord('a'))\n",
    "print(ord('z'))\n",
    "print(ord('A'))\n",
    "print(ord('Z'))"
   ]
  },
  {
   "cell_type": "markdown",
   "metadata": {},
   "source": [
    "Tworzymy wtedy tablicę o rozmiarze 122 i jesteśmy w stanie w odpowiedniej komórce przechowywać ilość wystąpień liter o zadanych kodach ASCII."
   ]
  },
  {
   "cell_type": "markdown",
   "metadata": {
    "slideshow": {
     "slide_type": "subslide"
    }
   },
   "source": [
    "## Wady?"
   ]
  },
  {
   "cell_type": "markdown",
   "metadata": {
    "slideshow": {
     "slide_type": "fragment"
    }
   },
   "source": [
    "### Dużo nieużywanych komórek, które zajmują miejsce w pamięci"
   ]
  },
  {
   "cell_type": "markdown",
   "metadata": {
    "slideshow": {
     "slide_type": "fragment"
    }
   },
   "source": [
    "### A co z innymi literami?"
   ]
  },
  {
   "cell_type": "code",
   "execution_count": 35,
   "metadata": {},
   "outputs": [
    {
     "name": "stdout",
     "output_type": "stream",
     "text": [
      "261\n",
      "377\n"
     ]
    }
   ],
   "source": [
    "print(ord('ą'))\n",
    "print(ord('Ź'))"
   ]
  },
  {
   "cell_type": "markdown",
   "metadata": {
    "slideshow": {
     "slide_type": "subslide"
    }
   },
   "source": [
    "### Potrzebujemy tablicy, w której indeksami może być coś innego niż kolejne liczby naturalne"
   ]
  },
  {
   "cell_type": "markdown",
   "metadata": {
    "slideshow": {
     "slide_type": "subslide"
    }
   },
   "source": [
    "## Rozwiązanie: słownik"
   ]
  },
  {
   "cell_type": "markdown",
   "metadata": {
    "slideshow": {
     "slide_type": "fragment"
    }
   },
   "source": [
    "### Tworzenie pustego słownika"
   ]
  },
  {
   "cell_type": "code",
   "execution_count": 36,
   "metadata": {},
   "outputs": [],
   "source": [
    "d = {}"
   ]
  },
  {
   "cell_type": "markdown",
   "metadata": {},
   "source": [
    "### Tworzenie słownika"
   ]
  },
  {
   "cell_type": "code",
   "execution_count": 37,
   "metadata": {},
   "outputs": [],
   "source": [
    "d = {'a': 1, 'v': 5, 6: 'pawel', 4.5: 2}"
   ]
  },
  {
   "cell_type": "markdown",
   "metadata": {
    "slideshow": {
     "slide_type": "subslide"
    }
   },
   "source": [
    "### Dostęp do wartości:"
   ]
  },
  {
   "cell_type": "code",
   "execution_count": 43,
   "metadata": {},
   "outputs": [
    {
     "name": "stdout",
     "output_type": "stream",
     "text": [
      "1\n",
      "pawel\n"
     ]
    }
   ],
   "source": [
    "print(d['a'])\n",
    "print(d[6])"
   ]
  },
  {
   "cell_type": "markdown",
   "metadata": {
    "slideshow": {
     "slide_type": "fragment"
    }
   },
   "source": [
    "### Edycja słownika"
   ]
  },
  {
   "cell_type": "code",
   "execution_count": 44,
   "metadata": {},
   "outputs": [],
   "source": [
    "d['a'] = 4\n",
    "d['bogdan'] = 'pawel'"
   ]
  },
  {
   "cell_type": "markdown",
   "metadata": {
    "slideshow": {
     "slide_type": "subslide"
    }
   },
   "source": [
    "### Przeglądanie słownika"
   ]
  },
  {
   "cell_type": "code",
   "execution_count": 53,
   "metadata": {},
   "outputs": [
    {
     "name": "stdout",
     "output_type": "stream",
     "text": [
      "{'a': 4, 'v': 5, 6: 'pawel', 4.5: 2, 'bogdan': 'pawel'}\n",
      "dict_keys(['a', 'v', 6, 4.5, 'bogdan'])\n",
      "dict_values([4, 5, 'pawel', 2, 'pawel'])\n",
      "4\n",
      "5\n",
      "pawel\n",
      "2\n",
      "pawel\n",
      "dict_items([('a', 4), ('v', 5), (6, 'pawel'), (4.5, 2), ('bogdan', 'pawel')])\n",
      "True\n"
     ]
    }
   ],
   "source": [
    "print(d)\n",
    "print(d.keys())\n",
    "print(d.values())\n",
    "for k in d:\n",
    "    print(d[k])\n",
    "print(d.items())\n",
    "print('a' in d)"
   ]
  },
  {
   "cell_type": "markdown",
   "metadata": {
    "slideshow": {
     "slide_type": "subslide"
    }
   },
   "source": [
    "## Dygresja - krotki\n",
    "\n",
    "### Lista:"
   ]
  },
  {
   "cell_type": "code",
   "execution_count": 50,
   "metadata": {},
   "outputs": [
    {
     "name": "stdout",
     "output_type": "stream",
     "text": [
      "[2, 3, 4]\n"
     ]
    }
   ],
   "source": [
    "l = [2,3,4]\n",
    "print(l)"
   ]
  },
  {
   "cell_type": "markdown",
   "metadata": {},
   "source": [
    "### Krotka\n",
    "\n",
    "(po angielsku: _tuple_)"
   ]
  },
  {
   "cell_type": "code",
   "execution_count": 51,
   "metadata": {},
   "outputs": [
    {
     "name": "stdout",
     "output_type": "stream",
     "text": [
      "(2, 3, 4)\n"
     ]
    }
   ],
   "source": [
    "k = (2,3,4)\n",
    "print(k)"
   ]
  },
  {
   "cell_type": "markdown",
   "metadata": {
    "slideshow": {
     "slide_type": "subslide"
    }
   },
   "source": [
    "### Przeglądanie listy krotek"
   ]
  },
  {
   "cell_type": "code",
   "execution_count": 52,
   "metadata": {},
   "outputs": [
    {
     "name": "stdout",
     "output_type": "stream",
     "text": [
      "a 4\n",
      "v 5\n",
      "6 pawel\n",
      "4.5 2\n",
      "bogdan pawel\n"
     ]
    }
   ],
   "source": [
    "for k, v in d.items():\n",
    "    print(k,v)"
   ]
  },
  {
   "cell_type": "markdown",
   "metadata": {
    "slideshow": {
     "slide_type": "subslide"
    }
   },
   "source": [
    "## Podsumowanie"
   ]
  },
  {
   "cell_type": "code",
   "execution_count": 55,
   "metadata": {},
   "outputs": [
    {
     "name": "stdout",
     "output_type": "stream",
     "text": [
      "Podaj ścieżkę do pliku: reduta-ordona.txt\n"
     ]
    }
   ],
   "source": [
    "import os\n",
    "\n",
    "file_path = input(\"Podaj ścieżkę do pliku: \")\n",
    "\n",
    "while not os.path.exists(file_path):\n",
    "    file_path = input(\"Plik nie istnieje, spróbuj jeszcze raz: \")\n",
    "\n",
    "f = open(file_path)\n",
    "freq = {}\n",
    "for letter in f.read():\n",
    "    if not (letter in freq):\n",
    "        freq[letter] = 1\n",
    "    else:\n",
    "        freq[letter] = freq[letter] + 1\n",
    "\n",
    "for k, v in freq.items():\n",
    "    print(\"{0} -> {1}\".format(k, v))"
   ]
  },
  {
   "cell_type": "markdown",
   "metadata": {
    "slideshow": {
     "slide_type": "slide"
    }
   },
   "source": [
    "# Krok 6: Wyeliminowanie niepotrzebnych znaków\n",
    "\n",
    "Do statystyki liter nie są nam potrzebne białe znaki, znaki przystankowe i cyfry.\n",
    "\n",
    "Do sprawdzenia, czy napis w zmiennej `s` zawiera tylko litery możemy wykorzystać wywołanie: `s.isalpha()`.\n"
   ]
  },
  {
   "cell_type": "markdown",
   "metadata": {
    "slideshow": {
     "slide_type": "subslide"
    }
   },
   "source": [
    "## Podsumowanie"
   ]
  },
  {
   "cell_type": "code",
   "execution_count": null,
   "metadata": {},
   "outputs": [],
   "source": [
    "import os\n",
    "\n",
    "file_path = input(\"Podaj ścieżkę do pliku: \")\n",
    "\n",
    "while not os.path.exists(file_path):\n",
    "    file_path = input(\"Plik nie istnieje, spróbuj jeszcze raz: \")\n",
    "\n",
    "f = open(file_path)\n",
    "freq = {}\n",
    "for letter in f.read():\n",
    "    if letter.isalpha():\n",
    "        if not (letter in freq):\n",
    "            freq[letter] = 1\n",
    "        else:\n",
    "            freq[letter] = freq[letter] + 1\n",
    "\n",
    "for k, v in freq.items():\n",
    "    print(\"{0} -> {1}\".format(k, v))"
   ]
  },
  {
   "cell_type": "markdown",
   "metadata": {
    "slideshow": {
     "slide_type": "subslide"
    }
   },
   "source": [
    "## Albo"
   ]
  },
  {
   "cell_type": "code",
   "execution_count": null,
   "metadata": {},
   "outputs": [],
   "source": [
    "import os\n",
    "\n",
    "file_path = input(\"Podaj ścieżkę do pliku: \")\n",
    "\n",
    "while not os.path.exists(file_path):\n",
    "    file_path = input(\"Plik nie istnieje, spróbuj jeszcze raz: \")\n",
    "\n",
    "f = open(file_path)\n",
    "freq = {}\n",
    "for letter in f.read():\n",
    "    if not letter.isalpha():\n",
    "        continue\n",
    "    if not (letter in freq):\n",
    "        freq[letter] = 1\n",
    "    else:\n",
    "        freq[letter] = freq[letter] + 1\n",
    "\n",
    "for k, v in freq.items():\n",
    "    print(\"{0} -> {1}\".format(k, v))"
   ]
  },
  {
   "cell_type": "markdown",
   "metadata": {
    "slideshow": {
     "slide_type": "slide"
    }
   },
   "source": [
    "# Krok 7: Brak rozróżnienia, czy litera jest wielka czy mała\n",
    "\n",
    "Do sprawdzenia, czy napis w zmiennej `s` składa się tylko z wielkich liter można użyć polecenia `s.isupper()`, a czy składa się tylko z małych liter polecenia `s.islower()`.\n",
    "\n",
    "Możemy też znaleźć odpowiednik napisu w zmiennej `s` w którym wszystkie litery są zamienione na wielkie przez użycie `s.upper()` i podobnie z małymi literami: `s.lower()`."
   ]
  },
  {
   "cell_type": "markdown",
   "metadata": {
    "slideshow": {
     "slide_type": "subslide"
    }
   },
   "source": [
    "## Podsumowanie"
   ]
  },
  {
   "cell_type": "code",
   "execution_count": null,
   "metadata": {},
   "outputs": [],
   "source": [
    "import os\n",
    "\n",
    "file_path = input(\"Podaj ścieżkę do pliku: \")\n",
    "\n",
    "while not os.path.exists(file_path):\n",
    "    file_path = input(\"Plik nie istnieje, spróbuj jeszcze raz: \")\n",
    "\n",
    "f = open(file_path)\n",
    "freq = {}\n",
    "for letter in f.read():\n",
    "    if not letter.isalpha():\n",
    "        continue\n",
    "    l = letter.lower()\n",
    "    if not (l in freq):\n",
    "        freq[l] = 1\n",
    "    else:\n",
    "        freq[l] = freq[l] + 1\n",
    "\n",
    "for k, v in freq.items():\n",
    "    print(\"{0} -> {1}\".format(k, v))"
   ]
  },
  {
   "cell_type": "markdown",
   "metadata": {},
   "source": [
    "# Krok 8: Posortowanie wyników"
   ]
  },
  {
   "cell_type": "code",
   "execution_count": null,
   "metadata": {},
   "outputs": [],
   "source": []
  }
 ],
 "metadata": {
  "celltoolbar": "Slideshow",
  "kernelspec": {
   "display_name": "Python 3",
   "language": "python",
   "name": "python3"
  },
  "language_info": {
   "codemirror_mode": {
    "name": "ipython",
    "version": 3
   },
   "file_extension": ".py",
   "mimetype": "text/x-python",
   "name": "python",
   "nbconvert_exporter": "python",
   "pygments_lexer": "ipython3",
   "version": "3.6.4"
  },
  "livereveal": {
   "scroll": "false",
   "theme": "sky"
  }
 },
 "nbformat": 4,
 "nbformat_minor": 2
}
