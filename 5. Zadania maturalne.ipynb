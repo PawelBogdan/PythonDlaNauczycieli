{
 "cells": [
  {
   "cell_type": "code",
   "execution_count": 1,
   "metadata": {
    "slideshow": {
     "slide_type": "skip"
    }
   },
   "outputs": [],
   "source": [
    "#-*- coding: utf-8 -*-"
   ]
  },
  {
   "cell_type": "markdown",
   "metadata": {},
   "source": [
    "# Zadania maturalne 2017\n",
    "\n",
    "[Z arkusza](https://cke.gov.pl/egzamin-maturalny/egzamin-w-nowej-formule/arkusze/2017-2/)\n",
    "\n"
   ]
  },
  {
   "cell_type": "markdown",
   "metadata": {
    "slideshow": {
     "slide_type": "slide"
    }
   },
   "source": [
    "## Zadanie 4. Słodzik\n",
    "\n",
    "Firma Słodzik zajmuje się sprzedażą cukru. W pliku `cukier.txt` znajdują się 2162 wiersze z danymi dotyczącymi sprzedaży w latach 2005-2014. W każdym wierszu podane sądane opisujące jedną transakcję sprzedaży, oddzielone pojedyńczymi znakami tabulacji: data sprzedaży (rrrr-mm-dd), numer NIP klienta (13-znakowy tekst) i ilość sprzedanego cukru w kg (co najwyżej 3-cyfrowa liczba całkowita dodatnia). Transakcje sąuporządkowane niemalejace według daty.\n",
    "\n",
    "Firma Słodzik ustala cenę sprzedaży w złotych na początku roku. Ustalona cena obowiązuje przez cały rok. W pliku `cennik.txt` przedstawiono ceny sprzdaży 1 kg cukru ustalone przez firmę Słodzik w latach 2005-2014.\n",
    "\n",
    "Wykorzystaj dostępne narzędzie informatyczne i podaj odpowiedzi do poniższych zadań."
   ]
  },
  {
   "cell_type": "markdown",
   "metadata": {
    "slideshow": {
     "slide_type": "slide"
    }
   },
   "source": [
    "### Zadanie 4.1\n",
    "\n",
    "Podaj numery NIP trzech klientów, którzy w całym okresie 2005-2014 kupili łącznie najwięcej cukru. Dla każdego z tych klientów podaj łączną liczbę kilogramów zakupionego przez niego cukru."
   ]
  },
  {
   "cell_type": "code",
   "execution_count": 2,
   "metadata": {
    "slideshow": {
     "slide_type": "subslide"
    }
   },
   "outputs": [
    {
     "name": "stdout",
     "output_type": "stream",
     "text": [
      "254-14-00-156 27505\n",
      "847-48-41-699 26955\n",
      "392-78-93-552 26451\n"
     ]
    }
   ],
   "source": [
    "cukier = open('cukier.txt')\n",
    "klienci = {}\n",
    "\n",
    "for line in cukier:\n",
    "    dane = line.split('\\t')\n",
    "    nip = dane[1]\n",
    "    kilogramy = int(dane[2])\n",
    "    if nip not in klienci:\n",
    "        klienci[nip] = kilogramy\n",
    "    else:\n",
    "        klienci[nip] = klienci[nip] + kilogramy\n",
    "\n",
    "wpisy = list(klienci.items())\n",
    "wpisy.sort(key=lambda t: t[1], reverse=True)\n",
    "for n, k in wpisy[:3]:\n",
    "    print(\"{0} {1}\".format(n,k))"
   ]
  },
  {
   "cell_type": "markdown",
   "metadata": {
    "slideshow": {
     "slide_type": "subslide"
    }
   },
   "source": [
    "### Zadanie 4.2\n",
    "\n",
    "Przychód z pojedynczej sprzedaży to cena sprzedaży pomnożona przez liczbę kilogramów sprzedanego cukru. Oblicz łączny przychód firmy Słodzik w latach 2005-2014"
   ]
  },
  {
   "cell_type": "code",
   "execution_count": 29,
   "metadata": {
    "slideshow": {
     "slide_type": "subslide"
    }
   },
   "outputs": [
    {
     "name": "stdout",
     "output_type": "stream",
     "text": [
      "643267.07\n"
     ]
    }
   ],
   "source": [
    "cukier = open('cukier.txt')\n",
    "cennik = open('cennik.txt')\n",
    "\n",
    "ceny = {}\n",
    "for line in cennik:\n",
    "    dane = line.split('\\t')\n",
    "    rok = dane[0].strip()\n",
    "    cena = dane[1]\n",
    "    ceny[rok] = float(cena.strip().replace(',', '.'))\n",
    "\n",
    "przychod = 0\n",
    "for line in cukier:\n",
    "    dane = line.split('\\t')\n",
    "    data = dane[0]\n",
    "    podzial_daty = data.split('-')\n",
    "    rok = podzial_daty[0]\n",
    "    kilogramy = int(dane[2])\n",
    "    przychod = round(przychod + kilogramy*ceny[rok],2)\n",
    "\n",
    "print(przychod)"
   ]
  },
  {
   "cell_type": "markdown",
   "metadata": {
    "slideshow": {
     "slide_type": "subslide"
    }
   },
   "source": [
    "### Zadanie 4.3\n",
    "\n",
    "Wykonaj i podaj zestawienie ilości sprzedanego cukru w kolejnych latach, od roku 2015 do roku 2014 włącznie. Następnie utwórz liniowy wykres ilustrujący sprzedaż cukru w kolejnych latach w podanym okresie. Wyskauluj oś pionową co 5000 kg. Pamiętaj o czytelnym opisie wykresu (tytuł i opis). "
   ]
  },
  {
   "cell_type": "code",
   "execution_count": 31,
   "metadata": {
    "slideshow": {
     "slide_type": "subslide"
    }
   },
   "outputs": [
    {
     "name": "stdout",
     "output_type": "stream",
     "text": [
      "W roku: 2005 sprzedano 27016kg cukru\n",
      "W roku: 2006 sprzedano 27226kg cukru\n",
      "W roku: 2007 sprzedano 31720kg cukru\n",
      "W roku: 2008 sprzedano 36523kg cukru\n",
      "W roku: 2009 sprzedano 30764kg cukru\n",
      "W roku: 2010 sprzedano 32521kg cukru\n",
      "W roku: 2011 sprzedano 23778kg cukru\n",
      "W roku: 2012 sprzedano 26976kg cukru\n",
      "W roku: 2013 sprzedano 28419kg cukru\n",
      "W roku: 2014 sprzedano 35284kg cukru\n"
     ]
    },
    {
     "data": {
      "application/javascript": [
       "/* Put everything inside the global mpl namespace */\n",
       "window.mpl = {};\n",
       "\n",
       "\n",
       "mpl.get_websocket_type = function() {\n",
       "    if (typeof(WebSocket) !== 'undefined') {\n",
       "        return WebSocket;\n",
       "    } else if (typeof(MozWebSocket) !== 'undefined') {\n",
       "        return MozWebSocket;\n",
       "    } else {\n",
       "        alert('Your browser does not have WebSocket support.' +\n",
       "              'Please try Chrome, Safari or Firefox ≥ 6. ' +\n",
       "              'Firefox 4 and 5 are also supported but you ' +\n",
       "              'have to enable WebSockets in about:config.');\n",
       "    };\n",
       "}\n",
       "\n",
       "mpl.figure = function(figure_id, websocket, ondownload, parent_element) {\n",
       "    this.id = figure_id;\n",
       "\n",
       "    this.ws = websocket;\n",
       "\n",
       "    this.supports_binary = (this.ws.binaryType != undefined);\n",
       "\n",
       "    if (!this.supports_binary) {\n",
       "        var warnings = document.getElementById(\"mpl-warnings\");\n",
       "        if (warnings) {\n",
       "            warnings.style.display = 'block';\n",
       "            warnings.textContent = (\n",
       "                \"This browser does not support binary websocket messages. \" +\n",
       "                    \"Performance may be slow.\");\n",
       "        }\n",
       "    }\n",
       "\n",
       "    this.imageObj = new Image();\n",
       "\n",
       "    this.context = undefined;\n",
       "    this.message = undefined;\n",
       "    this.canvas = undefined;\n",
       "    this.rubberband_canvas = undefined;\n",
       "    this.rubberband_context = undefined;\n",
       "    this.format_dropdown = undefined;\n",
       "\n",
       "    this.image_mode = 'full';\n",
       "\n",
       "    this.root = $('<div/>');\n",
       "    this._root_extra_style(this.root)\n",
       "    this.root.attr('style', 'display: inline-block');\n",
       "\n",
       "    $(parent_element).append(this.root);\n",
       "\n",
       "    this._init_header(this);\n",
       "    this._init_canvas(this);\n",
       "    this._init_toolbar(this);\n",
       "\n",
       "    var fig = this;\n",
       "\n",
       "    this.waiting = false;\n",
       "\n",
       "    this.ws.onopen =  function () {\n",
       "            fig.send_message(\"supports_binary\", {value: fig.supports_binary});\n",
       "            fig.send_message(\"send_image_mode\", {});\n",
       "            if (mpl.ratio != 1) {\n",
       "                fig.send_message(\"set_dpi_ratio\", {'dpi_ratio': mpl.ratio});\n",
       "            }\n",
       "            fig.send_message(\"refresh\", {});\n",
       "        }\n",
       "\n",
       "    this.imageObj.onload = function() {\n",
       "            if (fig.image_mode == 'full') {\n",
       "                // Full images could contain transparency (where diff images\n",
       "                // almost always do), so we need to clear the canvas so that\n",
       "                // there is no ghosting.\n",
       "                fig.context.clearRect(0, 0, fig.canvas.width, fig.canvas.height);\n",
       "            }\n",
       "            fig.context.drawImage(fig.imageObj, 0, 0);\n",
       "        };\n",
       "\n",
       "    this.imageObj.onunload = function() {\n",
       "        fig.ws.close();\n",
       "    }\n",
       "\n",
       "    this.ws.onmessage = this._make_on_message_function(this);\n",
       "\n",
       "    this.ondownload = ondownload;\n",
       "}\n",
       "\n",
       "mpl.figure.prototype._init_header = function() {\n",
       "    var titlebar = $(\n",
       "        '<div class=\"ui-dialog-titlebar ui-widget-header ui-corner-all ' +\n",
       "        'ui-helper-clearfix\"/>');\n",
       "    var titletext = $(\n",
       "        '<div class=\"ui-dialog-title\" style=\"width: 100%; ' +\n",
       "        'text-align: center; padding: 3px;\"/>');\n",
       "    titlebar.append(titletext)\n",
       "    this.root.append(titlebar);\n",
       "    this.header = titletext[0];\n",
       "}\n",
       "\n",
       "\n",
       "\n",
       "mpl.figure.prototype._canvas_extra_style = function(canvas_div) {\n",
       "\n",
       "}\n",
       "\n",
       "\n",
       "mpl.figure.prototype._root_extra_style = function(canvas_div) {\n",
       "\n",
       "}\n",
       "\n",
       "mpl.figure.prototype._init_canvas = function() {\n",
       "    var fig = this;\n",
       "\n",
       "    var canvas_div = $('<div/>');\n",
       "\n",
       "    canvas_div.attr('style', 'position: relative; clear: both; outline: 0');\n",
       "\n",
       "    function canvas_keyboard_event(event) {\n",
       "        return fig.key_event(event, event['data']);\n",
       "    }\n",
       "\n",
       "    canvas_div.keydown('key_press', canvas_keyboard_event);\n",
       "    canvas_div.keyup('key_release', canvas_keyboard_event);\n",
       "    this.canvas_div = canvas_div\n",
       "    this._canvas_extra_style(canvas_div)\n",
       "    this.root.append(canvas_div);\n",
       "\n",
       "    var canvas = $('<canvas/>');\n",
       "    canvas.addClass('mpl-canvas');\n",
       "    canvas.attr('style', \"left: 0; top: 0; z-index: 0; outline: 0\")\n",
       "\n",
       "    this.canvas = canvas[0];\n",
       "    this.context = canvas[0].getContext(\"2d\");\n",
       "\n",
       "    var backingStore = this.context.backingStorePixelRatio ||\n",
       "\tthis.context.webkitBackingStorePixelRatio ||\n",
       "\tthis.context.mozBackingStorePixelRatio ||\n",
       "\tthis.context.msBackingStorePixelRatio ||\n",
       "\tthis.context.oBackingStorePixelRatio ||\n",
       "\tthis.context.backingStorePixelRatio || 1;\n",
       "\n",
       "    mpl.ratio = (window.devicePixelRatio || 1) / backingStore;\n",
       "\n",
       "    var rubberband = $('<canvas/>');\n",
       "    rubberband.attr('style', \"position: absolute; left: 0; top: 0; z-index: 1;\")\n",
       "\n",
       "    var pass_mouse_events = true;\n",
       "\n",
       "    canvas_div.resizable({\n",
       "        start: function(event, ui) {\n",
       "            pass_mouse_events = false;\n",
       "        },\n",
       "        resize: function(event, ui) {\n",
       "            fig.request_resize(ui.size.width, ui.size.height);\n",
       "        },\n",
       "        stop: function(event, ui) {\n",
       "            pass_mouse_events = true;\n",
       "            fig.request_resize(ui.size.width, ui.size.height);\n",
       "        },\n",
       "    });\n",
       "\n",
       "    function mouse_event_fn(event) {\n",
       "        if (pass_mouse_events)\n",
       "            return fig.mouse_event(event, event['data']);\n",
       "    }\n",
       "\n",
       "    rubberband.mousedown('button_press', mouse_event_fn);\n",
       "    rubberband.mouseup('button_release', mouse_event_fn);\n",
       "    // Throttle sequential mouse events to 1 every 20ms.\n",
       "    rubberband.mousemove('motion_notify', mouse_event_fn);\n",
       "\n",
       "    rubberband.mouseenter('figure_enter', mouse_event_fn);\n",
       "    rubberband.mouseleave('figure_leave', mouse_event_fn);\n",
       "\n",
       "    canvas_div.on(\"wheel\", function (event) {\n",
       "        event = event.originalEvent;\n",
       "        event['data'] = 'scroll'\n",
       "        if (event.deltaY < 0) {\n",
       "            event.step = 1;\n",
       "        } else {\n",
       "            event.step = -1;\n",
       "        }\n",
       "        mouse_event_fn(event);\n",
       "    });\n",
       "\n",
       "    canvas_div.append(canvas);\n",
       "    canvas_div.append(rubberband);\n",
       "\n",
       "    this.rubberband = rubberband;\n",
       "    this.rubberband_canvas = rubberband[0];\n",
       "    this.rubberband_context = rubberband[0].getContext(\"2d\");\n",
       "    this.rubberband_context.strokeStyle = \"#000000\";\n",
       "\n",
       "    this._resize_canvas = function(width, height) {\n",
       "        // Keep the size of the canvas, canvas container, and rubber band\n",
       "        // canvas in synch.\n",
       "        canvas_div.css('width', width)\n",
       "        canvas_div.css('height', height)\n",
       "\n",
       "        canvas.attr('width', width * mpl.ratio);\n",
       "        canvas.attr('height', height * mpl.ratio);\n",
       "        canvas.attr('style', 'width: ' + width + 'px; height: ' + height + 'px;');\n",
       "\n",
       "        rubberband.attr('width', width);\n",
       "        rubberband.attr('height', height);\n",
       "    }\n",
       "\n",
       "    // Set the figure to an initial 600x600px, this will subsequently be updated\n",
       "    // upon first draw.\n",
       "    this._resize_canvas(600, 600);\n",
       "\n",
       "    // Disable right mouse context menu.\n",
       "    $(this.rubberband_canvas).bind(\"contextmenu\",function(e){\n",
       "        return false;\n",
       "    });\n",
       "\n",
       "    function set_focus () {\n",
       "        canvas.focus();\n",
       "        canvas_div.focus();\n",
       "    }\n",
       "\n",
       "    window.setTimeout(set_focus, 100);\n",
       "}\n",
       "\n",
       "mpl.figure.prototype._init_toolbar = function() {\n",
       "    var fig = this;\n",
       "\n",
       "    var nav_element = $('<div/>')\n",
       "    nav_element.attr('style', 'width: 100%');\n",
       "    this.root.append(nav_element);\n",
       "\n",
       "    // Define a callback function for later on.\n",
       "    function toolbar_event(event) {\n",
       "        return fig.toolbar_button_onclick(event['data']);\n",
       "    }\n",
       "    function toolbar_mouse_event(event) {\n",
       "        return fig.toolbar_button_onmouseover(event['data']);\n",
       "    }\n",
       "\n",
       "    for(var toolbar_ind in mpl.toolbar_items) {\n",
       "        var name = mpl.toolbar_items[toolbar_ind][0];\n",
       "        var tooltip = mpl.toolbar_items[toolbar_ind][1];\n",
       "        var image = mpl.toolbar_items[toolbar_ind][2];\n",
       "        var method_name = mpl.toolbar_items[toolbar_ind][3];\n",
       "\n",
       "        if (!name) {\n",
       "            // put a spacer in here.\n",
       "            continue;\n",
       "        }\n",
       "        var button = $('<button/>');\n",
       "        button.addClass('ui-button ui-widget ui-state-default ui-corner-all ' +\n",
       "                        'ui-button-icon-only');\n",
       "        button.attr('role', 'button');\n",
       "        button.attr('aria-disabled', 'false');\n",
       "        button.click(method_name, toolbar_event);\n",
       "        button.mouseover(tooltip, toolbar_mouse_event);\n",
       "\n",
       "        var icon_img = $('<span/>');\n",
       "        icon_img.addClass('ui-button-icon-primary ui-icon');\n",
       "        icon_img.addClass(image);\n",
       "        icon_img.addClass('ui-corner-all');\n",
       "\n",
       "        var tooltip_span = $('<span/>');\n",
       "        tooltip_span.addClass('ui-button-text');\n",
       "        tooltip_span.html(tooltip);\n",
       "\n",
       "        button.append(icon_img);\n",
       "        button.append(tooltip_span);\n",
       "\n",
       "        nav_element.append(button);\n",
       "    }\n",
       "\n",
       "    var fmt_picker_span = $('<span/>');\n",
       "\n",
       "    var fmt_picker = $('<select/>');\n",
       "    fmt_picker.addClass('mpl-toolbar-option ui-widget ui-widget-content');\n",
       "    fmt_picker_span.append(fmt_picker);\n",
       "    nav_element.append(fmt_picker_span);\n",
       "    this.format_dropdown = fmt_picker[0];\n",
       "\n",
       "    for (var ind in mpl.extensions) {\n",
       "        var fmt = mpl.extensions[ind];\n",
       "        var option = $(\n",
       "            '<option/>', {selected: fmt === mpl.default_extension}).html(fmt);\n",
       "        fmt_picker.append(option)\n",
       "    }\n",
       "\n",
       "    // Add hover states to the ui-buttons\n",
       "    $( \".ui-button\" ).hover(\n",
       "        function() { $(this).addClass(\"ui-state-hover\");},\n",
       "        function() { $(this).removeClass(\"ui-state-hover\");}\n",
       "    );\n",
       "\n",
       "    var status_bar = $('<span class=\"mpl-message\"/>');\n",
       "    nav_element.append(status_bar);\n",
       "    this.message = status_bar[0];\n",
       "}\n",
       "\n",
       "mpl.figure.prototype.request_resize = function(x_pixels, y_pixels) {\n",
       "    // Request matplotlib to resize the figure. Matplotlib will then trigger a resize in the client,\n",
       "    // which will in turn request a refresh of the image.\n",
       "    this.send_message('resize', {'width': x_pixels, 'height': y_pixels});\n",
       "}\n",
       "\n",
       "mpl.figure.prototype.send_message = function(type, properties) {\n",
       "    properties['type'] = type;\n",
       "    properties['figure_id'] = this.id;\n",
       "    this.ws.send(JSON.stringify(properties));\n",
       "}\n",
       "\n",
       "mpl.figure.prototype.send_draw_message = function() {\n",
       "    if (!this.waiting) {\n",
       "        this.waiting = true;\n",
       "        this.ws.send(JSON.stringify({type: \"draw\", figure_id: this.id}));\n",
       "    }\n",
       "}\n",
       "\n",
       "\n",
       "mpl.figure.prototype.handle_save = function(fig, msg) {\n",
       "    var format_dropdown = fig.format_dropdown;\n",
       "    var format = format_dropdown.options[format_dropdown.selectedIndex].value;\n",
       "    fig.ondownload(fig, format);\n",
       "}\n",
       "\n",
       "\n",
       "mpl.figure.prototype.handle_resize = function(fig, msg) {\n",
       "    var size = msg['size'];\n",
       "    if (size[0] != fig.canvas.width || size[1] != fig.canvas.height) {\n",
       "        fig._resize_canvas(size[0], size[1]);\n",
       "        fig.send_message(\"refresh\", {});\n",
       "    };\n",
       "}\n",
       "\n",
       "mpl.figure.prototype.handle_rubberband = function(fig, msg) {\n",
       "    var x0 = msg['x0'] / mpl.ratio;\n",
       "    var y0 = (fig.canvas.height - msg['y0']) / mpl.ratio;\n",
       "    var x1 = msg['x1'] / mpl.ratio;\n",
       "    var y1 = (fig.canvas.height - msg['y1']) / mpl.ratio;\n",
       "    x0 = Math.floor(x0) + 0.5;\n",
       "    y0 = Math.floor(y0) + 0.5;\n",
       "    x1 = Math.floor(x1) + 0.5;\n",
       "    y1 = Math.floor(y1) + 0.5;\n",
       "    var min_x = Math.min(x0, x1);\n",
       "    var min_y = Math.min(y0, y1);\n",
       "    var width = Math.abs(x1 - x0);\n",
       "    var height = Math.abs(y1 - y0);\n",
       "\n",
       "    fig.rubberband_context.clearRect(\n",
       "        0, 0, fig.canvas.width, fig.canvas.height);\n",
       "\n",
       "    fig.rubberband_context.strokeRect(min_x, min_y, width, height);\n",
       "}\n",
       "\n",
       "mpl.figure.prototype.handle_figure_label = function(fig, msg) {\n",
       "    // Updates the figure title.\n",
       "    fig.header.textContent = msg['label'];\n",
       "}\n",
       "\n",
       "mpl.figure.prototype.handle_cursor = function(fig, msg) {\n",
       "    var cursor = msg['cursor'];\n",
       "    switch(cursor)\n",
       "    {\n",
       "    case 0:\n",
       "        cursor = 'pointer';\n",
       "        break;\n",
       "    case 1:\n",
       "        cursor = 'default';\n",
       "        break;\n",
       "    case 2:\n",
       "        cursor = 'crosshair';\n",
       "        break;\n",
       "    case 3:\n",
       "        cursor = 'move';\n",
       "        break;\n",
       "    }\n",
       "    fig.rubberband_canvas.style.cursor = cursor;\n",
       "}\n",
       "\n",
       "mpl.figure.prototype.handle_message = function(fig, msg) {\n",
       "    fig.message.textContent = msg['message'];\n",
       "}\n",
       "\n",
       "mpl.figure.prototype.handle_draw = function(fig, msg) {\n",
       "    // Request the server to send over a new figure.\n",
       "    fig.send_draw_message();\n",
       "}\n",
       "\n",
       "mpl.figure.prototype.handle_image_mode = function(fig, msg) {\n",
       "    fig.image_mode = msg['mode'];\n",
       "}\n",
       "\n",
       "mpl.figure.prototype.updated_canvas_event = function() {\n",
       "    // Called whenever the canvas gets updated.\n",
       "    this.send_message(\"ack\", {});\n",
       "}\n",
       "\n",
       "// A function to construct a web socket function for onmessage handling.\n",
       "// Called in the figure constructor.\n",
       "mpl.figure.prototype._make_on_message_function = function(fig) {\n",
       "    return function socket_on_message(evt) {\n",
       "        if (evt.data instanceof Blob) {\n",
       "            /* FIXME: We get \"Resource interpreted as Image but\n",
       "             * transferred with MIME type text/plain:\" errors on\n",
       "             * Chrome.  But how to set the MIME type?  It doesn't seem\n",
       "             * to be part of the websocket stream */\n",
       "            evt.data.type = \"image/png\";\n",
       "\n",
       "            /* Free the memory for the previous frames */\n",
       "            if (fig.imageObj.src) {\n",
       "                (window.URL || window.webkitURL).revokeObjectURL(\n",
       "                    fig.imageObj.src);\n",
       "            }\n",
       "\n",
       "            fig.imageObj.src = (window.URL || window.webkitURL).createObjectURL(\n",
       "                evt.data);\n",
       "            fig.updated_canvas_event();\n",
       "            fig.waiting = false;\n",
       "            return;\n",
       "        }\n",
       "        else if (typeof evt.data === 'string' && evt.data.slice(0, 21) == \"data:image/png;base64\") {\n",
       "            fig.imageObj.src = evt.data;\n",
       "            fig.updated_canvas_event();\n",
       "            fig.waiting = false;\n",
       "            return;\n",
       "        }\n",
       "\n",
       "        var msg = JSON.parse(evt.data);\n",
       "        var msg_type = msg['type'];\n",
       "\n",
       "        // Call the  \"handle_{type}\" callback, which takes\n",
       "        // the figure and JSON message as its only arguments.\n",
       "        try {\n",
       "            var callback = fig[\"handle_\" + msg_type];\n",
       "        } catch (e) {\n",
       "            console.log(\"No handler for the '\" + msg_type + \"' message type: \", msg);\n",
       "            return;\n",
       "        }\n",
       "\n",
       "        if (callback) {\n",
       "            try {\n",
       "                // console.log(\"Handling '\" + msg_type + \"' message: \", msg);\n",
       "                callback(fig, msg);\n",
       "            } catch (e) {\n",
       "                console.log(\"Exception inside the 'handler_\" + msg_type + \"' callback:\", e, e.stack, msg);\n",
       "            }\n",
       "        }\n",
       "    };\n",
       "}\n",
       "\n",
       "// from http://stackoverflow.com/questions/1114465/getting-mouse-location-in-canvas\n",
       "mpl.findpos = function(e) {\n",
       "    //this section is from http://www.quirksmode.org/js/events_properties.html\n",
       "    var targ;\n",
       "    if (!e)\n",
       "        e = window.event;\n",
       "    if (e.target)\n",
       "        targ = e.target;\n",
       "    else if (e.srcElement)\n",
       "        targ = e.srcElement;\n",
       "    if (targ.nodeType == 3) // defeat Safari bug\n",
       "        targ = targ.parentNode;\n",
       "\n",
       "    // jQuery normalizes the pageX and pageY\n",
       "    // pageX,Y are the mouse positions relative to the document\n",
       "    // offset() returns the position of the element relative to the document\n",
       "    var x = e.pageX - $(targ).offset().left;\n",
       "    var y = e.pageY - $(targ).offset().top;\n",
       "\n",
       "    return {\"x\": x, \"y\": y};\n",
       "};\n",
       "\n",
       "/*\n",
       " * return a copy of an object with only non-object keys\n",
       " * we need this to avoid circular references\n",
       " * http://stackoverflow.com/a/24161582/3208463\n",
       " */\n",
       "function simpleKeys (original) {\n",
       "  return Object.keys(original).reduce(function (obj, key) {\n",
       "    if (typeof original[key] !== 'object')\n",
       "        obj[key] = original[key]\n",
       "    return obj;\n",
       "  }, {});\n",
       "}\n",
       "\n",
       "mpl.figure.prototype.mouse_event = function(event, name) {\n",
       "    var canvas_pos = mpl.findpos(event)\n",
       "\n",
       "    if (name === 'button_press')\n",
       "    {\n",
       "        this.canvas.focus();\n",
       "        this.canvas_div.focus();\n",
       "    }\n",
       "\n",
       "    var x = canvas_pos.x * mpl.ratio;\n",
       "    var y = canvas_pos.y * mpl.ratio;\n",
       "\n",
       "    this.send_message(name, {x: x, y: y, button: event.button,\n",
       "                             step: event.step,\n",
       "                             guiEvent: simpleKeys(event)});\n",
       "\n",
       "    /* This prevents the web browser from automatically changing to\n",
       "     * the text insertion cursor when the button is pressed.  We want\n",
       "     * to control all of the cursor setting manually through the\n",
       "     * 'cursor' event from matplotlib */\n",
       "    event.preventDefault();\n",
       "    return false;\n",
       "}\n",
       "\n",
       "mpl.figure.prototype._key_event_extra = function(event, name) {\n",
       "    // Handle any extra behaviour associated with a key event\n",
       "}\n",
       "\n",
       "mpl.figure.prototype.key_event = function(event, name) {\n",
       "\n",
       "    // Prevent repeat events\n",
       "    if (name == 'key_press')\n",
       "    {\n",
       "        if (event.which === this._key)\n",
       "            return;\n",
       "        else\n",
       "            this._key = event.which;\n",
       "    }\n",
       "    if (name == 'key_release')\n",
       "        this._key = null;\n",
       "\n",
       "    var value = '';\n",
       "    if (event.ctrlKey && event.which != 17)\n",
       "        value += \"ctrl+\";\n",
       "    if (event.altKey && event.which != 18)\n",
       "        value += \"alt+\";\n",
       "    if (event.shiftKey && event.which != 16)\n",
       "        value += \"shift+\";\n",
       "\n",
       "    value += 'k';\n",
       "    value += event.which.toString();\n",
       "\n",
       "    this._key_event_extra(event, name);\n",
       "\n",
       "    this.send_message(name, {key: value,\n",
       "                             guiEvent: simpleKeys(event)});\n",
       "    return false;\n",
       "}\n",
       "\n",
       "mpl.figure.prototype.toolbar_button_onclick = function(name) {\n",
       "    if (name == 'download') {\n",
       "        this.handle_save(this, null);\n",
       "    } else {\n",
       "        this.send_message(\"toolbar_button\", {name: name});\n",
       "    }\n",
       "};\n",
       "\n",
       "mpl.figure.prototype.toolbar_button_onmouseover = function(tooltip) {\n",
       "    this.message.textContent = tooltip;\n",
       "};\n",
       "mpl.toolbar_items = [[\"Home\", \"Reset original view\", \"fa fa-home icon-home\", \"home\"], [\"Back\", \"Back to  previous view\", \"fa fa-arrow-left icon-arrow-left\", \"back\"], [\"Forward\", \"Forward to next view\", \"fa fa-arrow-right icon-arrow-right\", \"forward\"], [\"\", \"\", \"\", \"\"], [\"Pan\", \"Pan axes with left mouse, zoom with right\", \"fa fa-arrows icon-move\", \"pan\"], [\"Zoom\", \"Zoom to rectangle\", \"fa fa-square-o icon-check-empty\", \"zoom\"], [\"\", \"\", \"\", \"\"], [\"Download\", \"Download plot\", \"fa fa-floppy-o icon-save\", \"download\"]];\n",
       "\n",
       "mpl.extensions = [\"eps\", \"pdf\", \"png\", \"ps\", \"raw\", \"svg\"];\n",
       "\n",
       "mpl.default_extension = \"png\";var comm_websocket_adapter = function(comm) {\n",
       "    // Create a \"websocket\"-like object which calls the given IPython comm\n",
       "    // object with the appropriate methods. Currently this is a non binary\n",
       "    // socket, so there is still some room for performance tuning.\n",
       "    var ws = {};\n",
       "\n",
       "    ws.close = function() {\n",
       "        comm.close()\n",
       "    };\n",
       "    ws.send = function(m) {\n",
       "        //console.log('sending', m);\n",
       "        comm.send(m);\n",
       "    };\n",
       "    // Register the callback with on_msg.\n",
       "    comm.on_msg(function(msg) {\n",
       "        //console.log('receiving', msg['content']['data'], msg);\n",
       "        // Pass the mpl event to the overriden (by mpl) onmessage function.\n",
       "        ws.onmessage(msg['content']['data'])\n",
       "    });\n",
       "    return ws;\n",
       "}\n",
       "\n",
       "mpl.mpl_figure_comm = function(comm, msg) {\n",
       "    // This is the function which gets called when the mpl process\n",
       "    // starts-up an IPython Comm through the \"matplotlib\" channel.\n",
       "\n",
       "    var id = msg.content.data.id;\n",
       "    // Get hold of the div created by the display call when the Comm\n",
       "    // socket was opened in Python.\n",
       "    var element = $(\"#\" + id);\n",
       "    var ws_proxy = comm_websocket_adapter(comm)\n",
       "\n",
       "    function ondownload(figure, format) {\n",
       "        window.open(figure.imageObj.src);\n",
       "    }\n",
       "\n",
       "    var fig = new mpl.figure(id, ws_proxy,\n",
       "                           ondownload,\n",
       "                           element.get(0));\n",
       "\n",
       "    // Call onopen now - mpl needs it, as it is assuming we've passed it a real\n",
       "    // web socket which is closed, not our websocket->open comm proxy.\n",
       "    ws_proxy.onopen();\n",
       "\n",
       "    fig.parent_element = element.get(0);\n",
       "    fig.cell_info = mpl.find_output_cell(\"<div id='\" + id + \"'></div>\");\n",
       "    if (!fig.cell_info) {\n",
       "        console.error(\"Failed to find cell for figure\", id, fig);\n",
       "        return;\n",
       "    }\n",
       "\n",
       "    var output_index = fig.cell_info[2]\n",
       "    var cell = fig.cell_info[0];\n",
       "\n",
       "};\n",
       "\n",
       "mpl.figure.prototype.handle_close = function(fig, msg) {\n",
       "    var width = fig.canvas.width/mpl.ratio\n",
       "    fig.root.unbind('remove')\n",
       "\n",
       "    // Update the output cell to use the data from the current canvas.\n",
       "    fig.push_to_output();\n",
       "    var dataURL = fig.canvas.toDataURL();\n",
       "    // Re-enable the keyboard manager in IPython - without this line, in FF,\n",
       "    // the notebook keyboard shortcuts fail.\n",
       "    IPython.keyboard_manager.enable()\n",
       "    $(fig.parent_element).html('<img src=\"' + dataURL + '\" width=\"' + width + '\">');\n",
       "    fig.close_ws(fig, msg);\n",
       "}\n",
       "\n",
       "mpl.figure.prototype.close_ws = function(fig, msg){\n",
       "    fig.send_message('closing', msg);\n",
       "    // fig.ws.close()\n",
       "}\n",
       "\n",
       "mpl.figure.prototype.push_to_output = function(remove_interactive) {\n",
       "    // Turn the data on the canvas into data in the output cell.\n",
       "    var width = this.canvas.width/mpl.ratio\n",
       "    var dataURL = this.canvas.toDataURL();\n",
       "    this.cell_info[1]['text/html'] = '<img src=\"' + dataURL + '\" width=\"' + width + '\">';\n",
       "}\n",
       "\n",
       "mpl.figure.prototype.updated_canvas_event = function() {\n",
       "    // Tell IPython that the notebook contents must change.\n",
       "    IPython.notebook.set_dirty(true);\n",
       "    this.send_message(\"ack\", {});\n",
       "    var fig = this;\n",
       "    // Wait a second, then push the new image to the DOM so\n",
       "    // that it is saved nicely (might be nice to debounce this).\n",
       "    setTimeout(function () { fig.push_to_output() }, 1000);\n",
       "}\n",
       "\n",
       "mpl.figure.prototype._init_toolbar = function() {\n",
       "    var fig = this;\n",
       "\n",
       "    var nav_element = $('<div/>')\n",
       "    nav_element.attr('style', 'width: 100%');\n",
       "    this.root.append(nav_element);\n",
       "\n",
       "    // Define a callback function for later on.\n",
       "    function toolbar_event(event) {\n",
       "        return fig.toolbar_button_onclick(event['data']);\n",
       "    }\n",
       "    function toolbar_mouse_event(event) {\n",
       "        return fig.toolbar_button_onmouseover(event['data']);\n",
       "    }\n",
       "\n",
       "    for(var toolbar_ind in mpl.toolbar_items){\n",
       "        var name = mpl.toolbar_items[toolbar_ind][0];\n",
       "        var tooltip = mpl.toolbar_items[toolbar_ind][1];\n",
       "        var image = mpl.toolbar_items[toolbar_ind][2];\n",
       "        var method_name = mpl.toolbar_items[toolbar_ind][3];\n",
       "\n",
       "        if (!name) { continue; };\n",
       "\n",
       "        var button = $('<button class=\"btn btn-default\" href=\"#\" title=\"' + name + '\"><i class=\"fa ' + image + ' fa-lg\"></i></button>');\n",
       "        button.click(method_name, toolbar_event);\n",
       "        button.mouseover(tooltip, toolbar_mouse_event);\n",
       "        nav_element.append(button);\n",
       "    }\n",
       "\n",
       "    // Add the status bar.\n",
       "    var status_bar = $('<span class=\"mpl-message\" style=\"text-align:right; float: right;\"/>');\n",
       "    nav_element.append(status_bar);\n",
       "    this.message = status_bar[0];\n",
       "\n",
       "    // Add the close button to the window.\n",
       "    var buttongrp = $('<div class=\"btn-group inline pull-right\"></div>');\n",
       "    var button = $('<button class=\"btn btn-mini btn-primary\" href=\"#\" title=\"Stop Interaction\"><i class=\"fa fa-power-off icon-remove icon-large\"></i></button>');\n",
       "    button.click(function (evt) { fig.handle_close(fig, {}); } );\n",
       "    button.mouseover('Stop Interaction', toolbar_mouse_event);\n",
       "    buttongrp.append(button);\n",
       "    var titlebar = this.root.find($('.ui-dialog-titlebar'));\n",
       "    titlebar.prepend(buttongrp);\n",
       "}\n",
       "\n",
       "mpl.figure.prototype._root_extra_style = function(el){\n",
       "    var fig = this\n",
       "    el.on(\"remove\", function(){\n",
       "\tfig.close_ws(fig, {});\n",
       "    });\n",
       "}\n",
       "\n",
       "mpl.figure.prototype._canvas_extra_style = function(el){\n",
       "    // this is important to make the div 'focusable\n",
       "    el.attr('tabindex', 0)\n",
       "    // reach out to IPython and tell the keyboard manager to turn it's self\n",
       "    // off when our div gets focus\n",
       "\n",
       "    // location in version 3\n",
       "    if (IPython.notebook.keyboard_manager) {\n",
       "        IPython.notebook.keyboard_manager.register_events(el);\n",
       "    }\n",
       "    else {\n",
       "        // location in version 2\n",
       "        IPython.keyboard_manager.register_events(el);\n",
       "    }\n",
       "\n",
       "}\n",
       "\n",
       "mpl.figure.prototype._key_event_extra = function(event, name) {\n",
       "    var manager = IPython.notebook.keyboard_manager;\n",
       "    if (!manager)\n",
       "        manager = IPython.keyboard_manager;\n",
       "\n",
       "    // Check for shift+enter\n",
       "    if (event.shiftKey && event.which == 13) {\n",
       "        this.canvas_div.blur();\n",
       "        event.shiftKey = false;\n",
       "        // Send a \"J\" for go to next cell\n",
       "        event.which = 74;\n",
       "        event.keyCode = 74;\n",
       "        manager.command_mode();\n",
       "        manager.handle_keydown(event);\n",
       "    }\n",
       "}\n",
       "\n",
       "mpl.figure.prototype.handle_save = function(fig, msg) {\n",
       "    fig.ondownload(fig, null);\n",
       "}\n",
       "\n",
       "\n",
       "mpl.find_output_cell = function(html_output) {\n",
       "    // Return the cell and output element which can be found *uniquely* in the notebook.\n",
       "    // Note - this is a bit hacky, but it is done because the \"notebook_saving.Notebook\"\n",
       "    // IPython event is triggered only after the cells have been serialised, which for\n",
       "    // our purposes (turning an active figure into a static one), is too late.\n",
       "    var cells = IPython.notebook.get_cells();\n",
       "    var ncells = cells.length;\n",
       "    for (var i=0; i<ncells; i++) {\n",
       "        var cell = cells[i];\n",
       "        if (cell.cell_type === 'code'){\n",
       "            for (var j=0; j<cell.output_area.outputs.length; j++) {\n",
       "                var data = cell.output_area.outputs[j];\n",
       "                if (data.data) {\n",
       "                    // IPython >= 3 moved mimebundle to data attribute of output\n",
       "                    data = data.data;\n",
       "                }\n",
       "                if (data['text/html'] == html_output) {\n",
       "                    return [cell, data, j];\n",
       "                }\n",
       "            }\n",
       "        }\n",
       "    }\n",
       "}\n",
       "\n",
       "// Register the function which deals with the matplotlib target/channel.\n",
       "// The kernel may be null if the page has been refreshed.\n",
       "if (IPython.notebook.kernel != null) {\n",
       "    IPython.notebook.kernel.comm_manager.register_target('matplotlib', mpl.mpl_figure_comm);\n",
       "}\n"
      ],
      "text/plain": [
       "<IPython.core.display.Javascript object>"
      ]
     },
     "metadata": {},
     "output_type": "display_data"
    },
    {
     "data": {
      "text/html": [
       "<img src=\"data:image/png;base64,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\" width=\"640\">"
      ],
      "text/plain": [
       "<IPython.core.display.HTML object>"
      ]
     },
     "metadata": {},
     "output_type": "display_data"
    }
   ],
   "source": [
    "%matplotlib notebook\n",
    "import matplotlib.pyplot as plt\n",
    "\n",
    "\n",
    "cukier = open('cukier.txt')\n",
    "klienci = {}\n",
    "\n",
    "zestawienie = {}\n",
    "x = list(range(2005, 2015))\n",
    "for i in x:\n",
    "    zestawienie[i] = 0\n",
    "    \n",
    "for line in cukier:\n",
    "    dane = line.split('\\t')\n",
    "    data = dane[0]\n",
    "    rok = int(data.split('-')[0])\n",
    "    kilogramy = int(dane[2])\n",
    "    zestawienie[rok] = zestawienie[rok] + kilogramy\n",
    "\n",
    "y = []\n",
    "for i in x:\n",
    "    print(\"W roku: {0} sprzedano {1}kg cukru\".format(i, zestawienie[i]))\n",
    "    y.append(zestawienie[i])\n",
    "\n",
    "plt.plot(x,y)\n",
    "plt.xlabel(\"Lata\")\n",
    "plt.ylabel(\"Kilogramy sprzedanego cukru\")\n",
    "plt.xticks(x)\n",
    "plt.yticks(list(range(10000, 40001, 5000)))\n",
    "plt.show()\n",
    "\n",
    "\n",
    "    "
   ]
  },
  {
   "cell_type": "markdown",
   "metadata": {
    "slideshow": {
     "slide_type": "subslide"
    }
   },
   "source": [
    "### Zadanie 4.4\n",
    "\n",
    "Na potrzeby zadania 4.4 załóżmy, że firma Słodzik wprowadziła system premiowania klientów hurtowych, który obejmuje lata 2005-2014. Klient otrzymuje przy zakupie rabat, którego wysokość zależy od łącznej ilości cukru zakupionej do tej pory przez tego klienta, wliczając w to ilość cukru w bieżącej transakcji sprzedaży. Wysokość rabatu za każdy kilogram cukru w bieżącej transakcji wynosi:\n",
    "- 5 gr, jeśli dotychaczas zakupił co najmniej 100 kg, ale mniej niż 1000 kg\n",
    "- 10 gr, jeśli dotychczas zakupił co najmniej 1000 kg, ale mniej niż 10000 kg\n",
    "- 20 gr, jeśli dotychaczas zakupił co najmniej 10000 kg\n",
    "Podaj łaczną wartość rabatów udzielonych przez firmę Słodzik"
   ]
  },
  {
   "cell_type": "code",
   "execution_count": 52,
   "metadata": {
    "slideshow": {
     "slide_type": "subslide"
    }
   },
   "outputs": [
    {
     "name": "stdout",
     "output_type": "stream",
     "text": [
      "38126.35\n"
     ]
    }
   ],
   "source": [
    "def rabat(kg):\n",
    "    if kg >= 10000:\n",
    "        return 0.2\n",
    "    elif kg >= 1000:\n",
    "        return 0.1\n",
    "    elif kg >= 100:\n",
    "        return 0.05\n",
    "    else:\n",
    "        return 0\n",
    "\n",
    "cukier = open('cukier.txt')\n",
    "klienci = {}\n",
    "calkowity_rabat = 0\n",
    "for line in cukier:\n",
    "    dane = line.split('\\t')\n",
    "    nip = dane[1]\n",
    "    kilogramy = int(dane[2])\n",
    "    if nip not in klienci:\n",
    "        klienci[nip] = kilogramy\n",
    "    else:\n",
    "        klienci[nip] = klienci[nip] + kilogramy\n",
    "\n",
    "    calkowity_rabat = round(calkowity_rabat + kilogramy*rabat(klienci[nip]), 2)\n",
    "print(calkowity_rabat)"
   ]
  },
  {
   "cell_type": "markdown",
   "metadata": {
    "slideshow": {
     "slide_type": "subslide"
    }
   },
   "source": [
    "### Zadanie 4.5\n",
    "\n",
    "Firma Słodzik chce, aby w magazynie na początku każdego miesiąca znajdowało sięnie mniej niż 5000 kg cukru. Po podsumowaniu miesięcznej sprzedaży uzupełnie stan magazynu: zakupuje towar u producenta. Producent sprzedaje cukier w paletach po 1000 kg. Nie można zakupupić niepełnej palety. Firma Słodzik kupuje tylko tyle palet, żeby uzupełnić stan do conajmniej 5000 kg. Zakup towaru u producenta odbywa sięostatniego dnia miesiąca przed północą."
   ]
  },
  {
   "cell_type": "code",
   "execution_count": 72,
   "metadata": {
    "slideshow": {
     "slide_type": "subslide"
    }
   },
   "outputs": [
    {
     "name": "stdout",
     "output_type": "stream",
     "text": [
      "14\n"
     ]
    }
   ],
   "source": [
    "cukier = open('cukier.txt')\n",
    "wynik = 0\n",
    "kilogramy_w_magazynie = 5000\n",
    "aktualny_miesiac = 1\n",
    "\n",
    "for line in cukier:\n",
    "    dane = line.split('\\t')\n",
    "    data = dane[0].split('-')\n",
    "    kilogramy = int(dane[2])\n",
    "    miesiac = int(data[1])\n",
    "    if miesiac == aktualny_miesiac:\n",
    "        kilogramy_w_magazynie = kilogramy_w_magazynie - kilogramy\n",
    "    else:\n",
    "        palety = 0\n",
    "        while kilogramy_w_magazynie < 5000:\n",
    "            kilogramy_w_magazynie = kilogramy_w_magazynie + 1000\n",
    "            palety = palety + 1\n",
    "        if palety >= 4:\n",
    "            wynik = wynik + 1\n",
    "        aktualny_miesiac = miesiac\n",
    "        kilogramy_w_magazynie = kilogramy_w_magazynie - kilogramy\n",
    "        \n",
    "palety = 0\n",
    "while kilogramy_w_magazynie < 5000:\n",
    "    kilogramy_w_magazynie = kilogramy_w_magazynie + 1000\n",
    "    palety = palety + 1\n",
    "if palety >= 4:\n",
    "    wynik = wynik + 1\n",
    "    \n",
    "print(wynik)"
   ]
  },
  {
   "cell_type": "markdown",
   "metadata": {
    "slideshow": {
     "slide_type": "slide"
    }
   },
   "source": [
    "## Zadanie 5\n",
    "\n",
    "Gosia mieszka w Kucykowie i jest fanką lokalnej kobiecej drużyny piłki nożnej Galop Kucykowo. Gosia zbiera informacje o wszystkich wynikach oficjalnych meczów tej drużyny. Informacje te zapisuje w plikach: `drużyny.txt`, `sedziowie.txt`, `wyniki.txt`.\n",
    "Pierwszy wiersz w każdym z plików jest wierszem nagłówkowym. Dane w każdym wierszu są oddzielone znakiem tabulacji.\n"
   ]
  },
  {
   "cell_type": "code",
   "execution_count": 102,
   "metadata": {
    "slideshow": {
     "slide_type": "subslide"
    }
   },
   "outputs": [],
   "source": [
    "class Druzyna:\n",
    "    def __init__(self, id_druzyny, nazwa, miasto):\n",
    "        self.id = id_druzyny\n",
    "        self.nazwa = nazwa\n",
    "        self.miasto = miasto\n",
    "\n",
    "class Sedzia:\n",
    "    def __init__(self, numer_licencji, imie, nazwisko):\n",
    "        self.numer_licencji = numer_licencji\n",
    "        self.imie = imie\n",
    "        self.nazwisko = nazwisko\n",
    "        \n",
    "class Wynik:\n",
    "    def __init__(self, data, rodzaj, gdzie, druzyna, sedzia, bramki_zdobyte, bramki_stracone):\n",
    "        self.data = data\n",
    "        self.rodzaj = rodzaj\n",
    "        self.gdzie = gdzie\n",
    "        self.druzyna = druzyna\n",
    "        self.sedzia = sedzia\n",
    "        self.bramki_zdobyte = bramki_zdobyte\n",
    "        self.bramki_stracone = bramki_stracone"
   ]
  },
  {
   "cell_type": "code",
   "execution_count": 103,
   "metadata": {
    "slideshow": {
     "slide_type": "subslide"
    }
   },
   "outputs": [],
   "source": [
    "druzyny = []\n",
    "sedziowie = []\n",
    "wyniki = []\n",
    "\n",
    "for line in open('druzyny.txt').readlines()[1:]:\n",
    "    dane = line.strip().split('\\t')\n",
    "    druzyny.append(Druzyna(int(dane[0]), dane[1], dane[2]))\n",
    "\n",
    "for line in open('sedziowie.txt').readlines()[1:]:\n",
    "    dane = line.split('\\t')\n",
    "    sedziowie.append(Sedzia(dane[0], dane[1], dane[2]))\n",
    "    \n",
    "def znajdz_druzyne(szukane_id):\n",
    "    for druzyna in druzyny:\n",
    "        if druzyna.id == szukane_id:\n",
    "            return druzyna\n",
    "def znajdz_sedziego(szukany_numer):\n",
    "    for sedzia in sedziowie:\n",
    "        if sedzia.numer_licencji == szukany_numer:\n",
    "            return sedzia\n",
    "    \n",
    "for line in open('wyniki.txt').readlines()[1:]:\n",
    "    dane = line.split('\\t')\n",
    "    wyniki.append(Wynik(dane[0], dane[1], dane[2], znajdz_druzyne(int(dane[3])), znajdz_sedziego(dane[4]), int(dane[5]), int(dane[6])))"
   ]
  },
  {
   "cell_type": "markdown",
   "metadata": {
    "slideshow": {
     "slide_type": "subslide"
    }
   },
   "source": [
    "### Zadanie 5.1\n",
    "\n",
    "a) Podaj, ile towarszyskich, ile ligowych oraz ile pucharowych meczów rozegrała drużyna Galop Kucykowo z drużynami ze swojego miasta"
   ]
  },
  {
   "cell_type": "code",
   "execution_count": 104,
   "metadata": {
    "slideshow": {
     "slide_type": "subslide"
    }
   },
   "outputs": [
    {
     "name": "stdout",
     "output_type": "stream",
     "text": [
      "25\n",
      "113\n",
      "6\n"
     ]
    }
   ],
   "source": [
    "pucharowe = filter(lambda w: w.rodzaj == 'P', filter(lambda w: w.druzyna.miasto == 'Kucykowo', wyniki))\n",
    "print(len(list(pucharowe)))\n",
    "ligowe = filter(lambda w: w.rodzaj == 'L', filter(lambda w: w.druzyna.miasto == 'Kucykowo', wyniki))\n",
    "print(len(list(ligowe)))\n",
    "towarzyskie = filter(lambda w: w.rodzaj == 'T', filter(lambda w: w.druzyna.miasto == 'Kucykowo', wyniki))\n",
    "print(len(list(towarzyskie)))"
   ]
  },
  {
   "cell_type": "markdown",
   "metadata": {
    "slideshow": {
     "slide_type": "subslide"
    }
   },
   "source": [
    "b) W którym roku drużyna Galop Kucykowo rozegrałą najwiecej meczów z drużynami ze swego miasta? Podaj rok i liczbę tych meczów"
   ]
  },
  {
   "cell_type": "code",
   "execution_count": 105,
   "metadata": {
    "slideshow": {
     "slide_type": "subslide"
    }
   },
   "outputs": [
    {
     "name": "stdout",
     "output_type": "stream",
     "text": [
      "('2007', 21)\n"
     ]
    }
   ],
   "source": [
    "grupowanie = {}\n",
    "for w in filter(lambda w: w.druzyna.miasto == 'Kucykowo', wyniki):\n",
    "    rok = w.data.split('-')[0]\n",
    "    if rok not in grupowanie:\n",
    "        grupowanie[rok] = 1\n",
    "    else:\n",
    "        grupowanie[rok] = grupowanie[rok] + 1\n",
    "elementy = list(grupowanie.items())\n",
    "elementy.sort(key=lambda t: t[1])\n",
    "print(elementy[-1])"
   ]
  },
  {
   "cell_type": "markdown",
   "metadata": {
    "slideshow": {
     "slide_type": "subslide"
    }
   },
   "source": [
    "### Zadanie 5.2\n",
    "\n",
    "Podaj listę zawierającą nazwy drużyn, z którymi drużyna Galop Kucykowo ma zerowy bilans bramkowy."
   ]
  },
  {
   "cell_type": "code",
   "execution_count": 106,
   "metadata": {
    "slideshow": {
     "slide_type": "subslide"
    }
   },
   "outputs": [
    {
     "name": "stdout",
     "output_type": "stream",
     "text": [
      "Zwinne Mewy\n",
      "Nocne Pumy\n"
     ]
    }
   ],
   "source": [
    "for druzyna in druzyny:\n",
    "    zdobyte = sum(map(lambda w: w.bramki_zdobyte, filter(lambda w: w.druzyna.id == druzyna.id, wyniki)))\n",
    "    stracone = sum(map(lambda w: w.bramki_stracone, filter(lambda w: w.druzyna.id == druzyna.id, wyniki)))\n",
    "    if zdobyte == stracone:\n",
    "        print(druzyna.nazwa)"
   ]
  },
  {
   "cell_type": "markdown",
   "metadata": {
    "slideshow": {
     "slide_type": "subslide"
    }
   },
   "source": [
    "### Zadanie 5.3\n",
    "\n",
    "Podaj liczby meczów wyjazdowych - wygranych, przegranych i zremisowanych - przez drużynę Galop Kucykowo"
   ]
  },
  {
   "cell_type": "code",
   "execution_count": 112,
   "metadata": {
    "slideshow": {
     "slide_type": "subslide"
    }
   },
   "outputs": [
    {
     "name": "stdout",
     "output_type": "stream",
     "text": [
      "579\n",
      "170\n",
      "452\n"
     ]
    }
   ],
   "source": [
    "print(len(list(filter(lambda w: w.gdzie == 'W' and w.bramki_zdobyte > w.bramki_stracone, wyniki))))\n",
    "print(len(list(filter(lambda w: w.gdzie == 'W' and w.bramki_zdobyte == w.bramki_stracone, wyniki))))\n",
    "print(len(list(filter(lambda w: w.gdzie == 'W' and w.bramki_zdobyte < w.bramki_stracone, wyniki))))"
   ]
  },
  {
   "cell_type": "markdown",
   "metadata": {
    "slideshow": {
     "slide_type": "subslide"
    }
   },
   "source": [
    "### Zadanie 5.4\n",
    "\n",
    "Podaj, ilu sędziów spośród tych zapisanych w pliku sedziowie.txt nie sędziowało żadnego pucharowego meczu drużyny Galop Kuzykowo."
   ]
  },
  {
   "cell_type": "code",
   "execution_count": 114,
   "metadata": {
    "slideshow": {
     "slide_type": "subslide"
    }
   },
   "outputs": [
    {
     "name": "stdout",
     "output_type": "stream",
     "text": [
      "22\n"
     ]
    }
   ],
   "source": [
    "sedziowie_pucharowi = list(map(lambda w: w.sedzia.numer_licencji, filter(lambda w: w.rodzaj == 'P', wyniki)))\n",
    "wynik = 0\n",
    "for sedzia in sedziowie:\n",
    "    if sedzia.numer_licencji not in sedziowie_pucharowi:\n",
    "        wynik += 1\n",
    "print(wynik)"
   ]
  },
  {
   "cell_type": "markdown",
   "metadata": {
    "slideshow": {
     "slide_type": "slide"
    }
   },
   "source": [
    "## Zadanie 6\n",
    "\n",
    "W pliku `dane.txt` znajduje się 200 wierszy. Każdy wiersz zawiera 320 liczb naturalnych z przedziału od 0 do 255, oddzielonych znakami pojedynczego odstępu. Przedstawiają one jasności kolejnych białych pikseli czarno-białego obrazu o wymiarach 320 na 200 pikseli (od 0 - czarny do 255 - biały).\n",
    "\n",
    "Napisz programy, które dadzą odpowiedzi do poniższych zadań."
   ]
  },
  {
   "cell_type": "markdown",
   "metadata": {
    "slideshow": {
     "slide_type": "subslide"
    }
   },
   "source": [
    "### Zadanie 6.1\n",
    "\n",
    "Podaj janość najjaśniejszego i najciemniejszego piksela"
   ]
  },
  {
   "cell_type": "code",
   "execution_count": 118,
   "metadata": {
    "slideshow": {
     "slide_type": "subslide"
    }
   },
   "outputs": [
    {
     "name": "stdout",
     "output_type": "stream",
     "text": [
      "221\n",
      "7\n"
     ]
    }
   ],
   "source": [
    "wiersze = []\n",
    "for line in open(\"dane.txt\"):\n",
    "    wiersz = []\n",
    "    for element in line.split(' '):\n",
    "        wiersz.append(int(element))\n",
    "    wiersze.append(wiersz)\n",
    "\n",
    "print(max(map(max, wiersze)))\n",
    "print(min(map(min, wiersze)))"
   ]
  },
  {
   "cell_type": "markdown",
   "metadata": {
    "slideshow": {
     "slide_type": "subslide"
    }
   },
   "source": [
    "### Zadanie 6.2\n",
    "\n",
    "Podaj, ile wynosi najmniejsza liczba wierszy, które należy usunąć, żęby obraz miał pionową oś symetrii."
   ]
  },
  {
   "cell_type": "code",
   "execution_count": 120,
   "metadata": {
    "slideshow": {
     "slide_type": "subslide"
    }
   },
   "outputs": [
    {
     "name": "stdout",
     "output_type": "stream",
     "text": [
      "149\n"
     ]
    }
   ],
   "source": [
    "def czy_wiersz_ma_symetrie(wiersz):\n",
    "    i = 0\n",
    "    j = len(wiersz)-1\n",
    "    while i < j:\n",
    "        if wiersz[i] != wiersz[j]:\n",
    "            return False\n",
    "        i += 1\n",
    "        j -= 1\n",
    "    return True\n",
    "\n",
    "wynik = 0\n",
    "for wiersz in wiersze:\n",
    "    if not czy_wiersz_ma_symetrie(wiersz):\n",
    "        wynik += 1\n",
    "print(wynik)"
   ]
  },
  {
   "cell_type": "markdown",
   "metadata": {
    "slideshow": {
     "slide_type": "subslide"
    }
   },
   "source": [
    "### Zadanie 6.3\n",
    "\n",
    "Sąsziednie piksele to takie, które leżą obok siebie w tym samym wierszu lub tej samej kolumnie. Dwa sąsiednie piksele nazywamy kontrastującymi, jeśli ich wartości różnią się o więcej niż 128. Podaj liczbę wszystkich takich pikseli, dla których istnieje przynajmniej jeden konstrastujący z nim sąsiedni piksel"
   ]
  },
  {
   "cell_type": "code",
   "execution_count": 124,
   "metadata": {
    "slideshow": {
     "slide_type": "subslide"
    }
   },
   "outputs": [
    {
     "name": "stdout",
     "output_type": "stream",
     "text": [
      "753\n"
     ]
    }
   ],
   "source": [
    "wynik = 0\n",
    "for i in range(len(wiersze)):\n",
    "    for j in range(len(wiersze[i])):\n",
    "        el = wiersze[i][j]\n",
    "        if i > 0:\n",
    "            if abs(wiersze[i-1][j] - el) > 128:\n",
    "                wynik += 1\n",
    "                continue\n",
    "        if i < len(wiersze) - 1:\n",
    "            if abs(wiersze[i+1][j] - el) > 128:\n",
    "                wynik += 1\n",
    "                continue\n",
    "        if j > 0:\n",
    "            if abs(wiersze[i][j-1] - el) > 128:\n",
    "                wynik += 1\n",
    "                continue\n",
    "        if j < len(wiersze[i]) - 1:\n",
    "            if abs(wiersze[i][j+1] - el) > 128:\n",
    "                wynik += 1\n",
    "                continue\n",
    "print(wynik)"
   ]
  },
  {
   "cell_type": "markdown",
   "metadata": {
    "slideshow": {
     "slide_type": "subslide"
    }
   },
   "source": [
    "### Zadanie 6.4\n",
    "\n",
    "Podaj długość najdłuższej linii pionowej złożonej z pikseli o tej samej jasności,"
   ]
  },
  {
   "cell_type": "code",
   "execution_count": 126,
   "metadata": {
    "slideshow": {
     "slide_type": "subslide"
    }
   },
   "outputs": [
    {
     "name": "stdout",
     "output_type": "stream",
     "text": [
      "5\n"
     ]
    }
   ],
   "source": [
    "max_dlugosc = 0\n",
    "aktualna_dlugosc = 0\n",
    "aktualna_wartosc = -1\n",
    "\n",
    "for i in range(len(wiersze)):\n",
    "    for j in range(len(wiersze[i])):\n",
    "        aktualna_wartosc = wiersze[i][j]\n",
    "        aktualna_dlugosc = 1\n",
    "        k = i + 1\n",
    "        while k < len(wiersze) and wiersze[k][j] == aktualna_wartosc:\n",
    "            aktualna_dlugosc += 1\n",
    "            k += 1\n",
    "        if aktualna_dlugosc > max_dlugosc:\n",
    "            max_dlugosc = aktualna_dlugosc\n",
    "        if max_dlugosc + i + 1 == len(wiersze):\n",
    "            break\n",
    "    if max_dlugosc + i + 1 == len(wiersze):\n",
    "            break\n",
    "print(max_dlugosc)"
   ]
  }
 ],
 "metadata": {
  "celltoolbar": "Slideshow",
  "kernelspec": {
   "display_name": "Python 3",
   "language": "python",
   "name": "python3"
  },
  "language_info": {
   "codemirror_mode": {
    "name": "ipython",
    "version": 3
   },
   "file_extension": ".py",
   "mimetype": "text/x-python",
   "name": "python",
   "nbconvert_exporter": "python",
   "pygments_lexer": "ipython3",
   "version": "3.6.4"
  },
  "livereveal": {
   "scroll": "false",
   "theme": "sky"
  }
 },
 "nbformat": 4,
 "nbformat_minor": 2
}
